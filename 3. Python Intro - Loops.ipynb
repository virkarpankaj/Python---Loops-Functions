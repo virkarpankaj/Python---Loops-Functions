{
 "cells": [
  {
   "cell_type": "markdown",
   "id": "ecbc7cf0",
   "metadata": {},
   "source": [
    "## If - Elif - Else Loop"
   ]
  },
  {
   "cell_type": "code",
   "execution_count": null,
   "id": "abbc8ae9",
   "metadata": {},
   "outputs": [],
   "source": [
    "# in If elif else - if is mandetory elif, else are optional"
   ]
  },
  {
   "cell_type": "code",
   "execution_count": 1,
   "id": "ee62c21c",
   "metadata": {},
   "outputs": [
    {
     "name": "stdout",
     "output_type": "stream",
     "text": [
      "Number is greater than 4 & less than 12\n"
     ]
    }
   ],
   "source": [
    "x = 10\n",
    "\n",
    "if x > 11:\n",
    "    print('Number is greater than 10')\n",
    "elif x < 5:\n",
    "    print('Number is less than 5')\n",
    "elif x >= 5:\n",
    "    print('Number is greater than 4 & less than 12')"
   ]
  },
  {
   "cell_type": "code",
   "execution_count": 2,
   "id": "6e2b0411",
   "metadata": {},
   "outputs": [
    {
     "data": {
      "text/plain": [
       "150"
      ]
     },
     "execution_count": 2,
     "metadata": {},
     "output_type": "execute_result"
    }
   ],
   "source": [
    "x = 15\n",
    "\n",
    "if x == 15:\n",
    "    x = 150\n",
    "elif x == 20:\n",
    "    x = 200\n",
    "elif x == 25:\n",
    "    x = 250\n",
    "else:\n",
    "    x = 300\n",
    "x"
   ]
  },
  {
   "cell_type": "code",
   "execution_count": 3,
   "id": "7daa9c67",
   "metadata": {},
   "outputs": [
    {
     "data": {
      "text/plain": [
       "200"
      ]
     },
     "execution_count": 3,
     "metadata": {},
     "output_type": "execute_result"
    }
   ],
   "source": [
    "x = 150\n",
    "\n",
    "if x == 7:\n",
    "    x = 150\n",
    "elif x == 150:\n",
    "    x = 200\n",
    "elif x == 200:\n",
    "    x = 250\n",
    "else:\n",
    "    x = 300\n",
    "x"
   ]
  },
  {
   "cell_type": "code",
   "execution_count": null,
   "id": "7ccf1e45",
   "metadata": {},
   "outputs": [],
   "source": [
    "# elif statements maybe 0 or many"
   ]
  },
  {
   "cell_type": "code",
   "execution_count": 4,
   "id": "eb4d3f32",
   "metadata": {},
   "outputs": [
    {
     "name": "stdout",
     "output_type": "stream",
     "text": [
      "FizzBuzz - div by 3&5\n",
      "Buzz - div by 5\n"
     ]
    }
   ],
   "source": [
    "def fizzBuzz(x):\n",
    "\n",
    "    if x % 3 == 0 and x % 5 == 0:\n",
    "        return \"FizzBuzz - div by 3&5\"\n",
    "\n",
    "    if x % 3 == 0 or x % 5 == 0:\n",
    "        if x % 3 == 0:\n",
    "            return \"Fizz - div by 3\"\n",
    "        elif x % 5 == 0:\n",
    "            return \"Buzz - div by 5\"\n",
    "        else:\n",
    "            return x\n",
    "\n",
    "\n",
    "print(fizzBuzz(15))\n",
    "print(fizzBuzz(5))"
   ]
  },
  {
   "cell_type": "code",
   "execution_count": 5,
   "id": "da3d4560",
   "metadata": {},
   "outputs": [
    {
     "name": "stdout",
     "output_type": "stream",
     "text": [
      "FizzBuzz - div by 3&5\n",
      "Fizz - div by 3\n",
      "Not divisible by both 3&5\n",
      "Buzz - div by 5\n"
     ]
    }
   ],
   "source": [
    "def fizzBuzz(x):\n",
    "\n",
    "    if x % 3 == 0 and x % 5 == 0:\n",
    "        print(\"FizzBuzz - div by 3&5\")\n",
    "    else:\n",
    "        print('Not divisible by both 3&5')\n",
    "\n",
    "    if x % 3 == 0 or x % 5 == 0:\n",
    "        if x % 3 == 0:\n",
    "            return \"Fizz - div by 3\"\n",
    "        elif x % 5 == 0:\n",
    "            return \"Buzz - div by 5\"\n",
    "        else:\n",
    "            return x\n",
    "    else:\n",
    "        print('not divisible by 3or5')\n",
    "\n",
    "\n",
    "print(fizzBuzz(15))\n",
    "print(fizzBuzz(5))"
   ]
  },
  {
   "cell_type": "code",
   "execution_count": null,
   "id": "7d4b290f",
   "metadata": {},
   "outputs": [],
   "source": []
  },
  {
   "cell_type": "markdown",
   "id": "6e1756f7",
   "metadata": {},
   "source": [
    "### Write a prg to calculate bmi - body mass index (bmi = weight / height ^ 2).\n",
    "\n",
    "-  if bmi <= 18.5 print \"Underweight\"\n",
    "- if bmi <= 25.0 print \"Normal\"\n",
    "- if bmi <= 30.0 print \"Overweight\"\n",
    "- if bmi > 30 print \"Obese\"\n",
    "- Take inputs => 1. Weight, 2. Height\n",
    "- Formulae: bmi = weight / height ** 2"
   ]
  },
  {
   "cell_type": "code",
   "execution_count": 29,
   "id": "ff460c47",
   "metadata": {},
   "outputs": [
    {
     "name": "stdout",
     "output_type": "stream",
     "text": [
      "Enter the weight: 80\n",
      "Enter the height: 1.87\n",
      "Normal\n"
     ]
    }
   ],
   "source": [
    "weight = float(input(\"Enter the weight: \"))\n",
    "height = float(input(\"Enter the height: \"))\n",
    "\n",
    "bmi = weight / (height**2)\n",
    "\n",
    "if bmi <= 18.5:\n",
    "    print(\"underweight\")\n",
    "elif bmi <= 25.0:\n",
    "    print(\"Normal\")\n",
    "elif bmi <= 30.0:\n",
    "    print(\"Overweight\")\n",
    "else:\n",
    "    print(\"Obese\")"
   ]
  },
  {
   "cell_type": "code",
   "execution_count": null,
   "id": "417df946",
   "metadata": {},
   "outputs": [],
   "source": []
  },
  {
   "cell_type": "code",
   "execution_count": null,
   "id": "69c06728",
   "metadata": {},
   "outputs": [],
   "source": [
    "# return will exit the loop    print will not\n",
    "# return stores the value      print will not\n",
    "# return generally used in fun\n"
   ]
  },
  {
   "cell_type": "code",
   "execution_count": null,
   "id": "0721de29",
   "metadata": {},
   "outputs": [],
   "source": []
  },
  {
   "cell_type": "markdown",
   "id": "738ee9b1",
   "metadata": {},
   "source": [
    "## For Loop"
   ]
  },
  {
   "cell_type": "markdown",
   "id": "823a9a1f",
   "metadata": {},
   "source": [
    "### For + List"
   ]
  },
  {
   "cell_type": "code",
   "execution_count": 37,
   "id": "54aafdbd",
   "metadata": {},
   "outputs": [],
   "source": [
    "websites = [\"amazon\", \"flipkart\", \"snapdeal\", \"paytm\"]"
   ]
  },
  {
   "cell_type": "code",
   "execution_count": 41,
   "id": "27db142a",
   "metadata": {},
   "outputs": [
    {
     "name": "stdout",
     "output_type": "stream",
     "text": [
      "www.amazon.com\n",
      "www.flipkart.com\n",
      "www.snapdeal.com\n",
      "www.paytm.com\n"
     ]
    }
   ],
   "source": [
    "for item in websites:\n",
    "    print(\"www.\" + item + \".com\")"
   ]
  },
  {
   "cell_type": "code",
   "execution_count": 44,
   "id": "b77756e5",
   "metadata": {},
   "outputs": [
    {
     "name": "stdout",
     "output_type": "stream",
     "text": [
      "www.amazon.com\n",
      "www.flipkart.com\n",
      "www.snapdeal.com\n",
      "www.paytm.com\n"
     ]
    }
   ],
   "source": [
    "for item in websites:\n",
    "    #     print(\"www.{}.com\".format(item), end=\" \")\n",
    "    print(\"www.{}.com\".format(item))"
   ]
  },
  {
   "cell_type": "code",
   "execution_count": 45,
   "id": "dd0f5a88",
   "metadata": {},
   "outputs": [],
   "source": [
    "websites = [\"amazon\", \"flipkart\", \"snapdeal\", \"paytm\"]\n",
    "extensions = [\"com\", \"org\", \"in\"]"
   ]
  },
  {
   "cell_type": "code",
   "execution_count": null,
   "id": "14673a55",
   "metadata": {},
   "outputs": [],
   "source": [
    "for i in websites:\n",
    "    for j in extensions:\n",
    "        print(f'www.{i}.{j}')"
   ]
  },
  {
   "cell_type": "code",
   "execution_count": 46,
   "id": "0c79e1b2",
   "metadata": {},
   "outputs": [
    {
     "name": "stdout",
     "output_type": "stream",
     "text": [
      "www.amazon.com\n",
      "www.amazon.org\n",
      "www.amazon.in\n",
      "www.flipkart.com\n",
      "www.flipkart.org\n",
      "www.flipkart.in\n",
      "www.snapdeal.com\n",
      "www.snapdeal.org\n",
      "www.snapdeal.in\n",
      "www.paytm.com\n",
      "www.paytm.org\n",
      "www.paytm.in\n"
     ]
    }
   ],
   "source": [
    "for web in websites:\n",
    "    for ext in extensions:\n",
    "        print(\"www.{}.{}\".format(web, ext))"
   ]
  },
  {
   "cell_type": "code",
   "execution_count": null,
   "id": "6449fffd",
   "metadata": {},
   "outputs": [],
   "source": []
  },
  {
   "cell_type": "code",
   "execution_count": 6,
   "id": "0213688c",
   "metadata": {},
   "outputs": [
    {
     "data": {
      "text/plain": [
       "[7, 14, 21, 28, 35, 42, 49]"
      ]
     },
     "execution_count": 6,
     "metadata": {},
     "output_type": "execute_result"
    }
   ],
   "source": [
    "# multiply each element by some no - method 1\n",
    "\n",
    "g = [1, 2, 3, 4, 5, 6, 7]\n",
    "\n",
    "h = []\n",
    "\n",
    "for i in g:\n",
    "    h.append(i * 7)\n",
    "h"
   ]
  },
  {
   "cell_type": "code",
   "execution_count": 7,
   "id": "60263b60",
   "metadata": {},
   "outputs": [
    {
     "data": {
      "text/plain": [
       "[7, 14, 21, 28, 35, 42, 49]"
      ]
     },
     "execution_count": 7,
     "metadata": {},
     "output_type": "execute_result"
    }
   ],
   "source": [
    "#multiply each element by some no - method 2\n",
    "\n",
    "g = [1, 2, 3, 4, 5, 6, 7]\n",
    "j = []\n",
    "\n",
    "for i in range(len(g)):\n",
    "    j.append(g[i] * 7)\n",
    "\n",
    "j"
   ]
  },
  {
   "cell_type": "code",
   "execution_count": 10,
   "id": "273a288b",
   "metadata": {},
   "outputs": [
    {
     "data": {
      "text/plain": [
       "[7, 14, 21, 28, 35, 42, 49]"
      ]
     },
     "execution_count": 10,
     "metadata": {},
     "output_type": "execute_result"
    }
   ],
   "source": [
    "#multiply each element by some no - method 3\n",
    "\n",
    "g = [1, 2, 3, 4, 5, 6, 7]\n",
    "j = []\n",
    "\n",
    "for i in g:\n",
    "    j = j + [i * 7]\n",
    "\n",
    "j"
   ]
  },
  {
   "cell_type": "code",
   "execution_count": 8,
   "id": "e4d9ba5d",
   "metadata": {},
   "outputs": [
    {
     "name": "stdout",
     "output_type": "stream",
     "text": [
      "[2, 12, 10]\n",
      "[13, 17, 19, 21]\n",
      "[15.1, 17.4]\n"
     ]
    }
   ],
   "source": [
    "a = [2, 12, 13, 15.1, 17, 10, 17.4, 19, 21]\n",
    "\n",
    "list_even = []\n",
    "list_odd = []\n",
    "list_float = []\n",
    "\n",
    "for i in a:\n",
    "    if i % 2 == 0:\n",
    "        list_even.append(i)\n",
    "    elif i % 2 == 1:\n",
    "        list_odd.append(i)\n",
    "\n",
    "    else:\n",
    "        list_float.append(i)\n",
    "\n",
    "print(list_even)\n",
    "print(list_odd)\n",
    "print(list_float)"
   ]
  },
  {
   "cell_type": "code",
   "execution_count": null,
   "id": "4f976b3a",
   "metadata": {},
   "outputs": [],
   "source": []
  },
  {
   "cell_type": "markdown",
   "id": "8ab0e153",
   "metadata": {},
   "source": [
    "### for + dict"
   ]
  },
  {
   "cell_type": "code",
   "execution_count": 47,
   "id": "e349deb1",
   "metadata": {},
   "outputs": [],
   "source": [
    "vk = {\"Name\" : \"Virat\", \"Age\": 31, \"Team\": \"RCB\", \"Role\": \"Captain\"}"
   ]
  },
  {
   "cell_type": "code",
   "execution_count": 48,
   "id": "6e0092ce",
   "metadata": {},
   "outputs": [
    {
     "data": {
      "text/plain": [
       "dict_keys(['Name', 'Age', 'Team', 'Role'])"
      ]
     },
     "execution_count": 48,
     "metadata": {},
     "output_type": "execute_result"
    }
   ],
   "source": [
    "vk.keys()"
   ]
  },
  {
   "cell_type": "code",
   "execution_count": 49,
   "id": "9745a79f",
   "metadata": {},
   "outputs": [
    {
     "name": "stdout",
     "output_type": "stream",
     "text": [
      "Name\n",
      "Age\n",
      "Team\n",
      "Role\n"
     ]
    }
   ],
   "source": [
    "# Iterate through keys\n",
    "for item in vk:\n",
    "    print(item)"
   ]
  },
  {
   "cell_type": "code",
   "execution_count": null,
   "id": "72acda86",
   "metadata": {},
   "outputs": [],
   "source": []
  },
  {
   "cell_type": "code",
   "execution_count": 51,
   "id": "74f0c19e",
   "metadata": {},
   "outputs": [
    {
     "name": "stdout",
     "output_type": "stream",
     "text": [
      "Virat\n",
      "31\n",
      "RCB\n",
      "Captain\n"
     ]
    }
   ],
   "source": [
    "# Iterate through values\n",
    "for item in vk.values():\n",
    "    print(item)"
   ]
  },
  {
   "cell_type": "code",
   "execution_count": null,
   "id": "dcb7b83d",
   "metadata": {},
   "outputs": [],
   "source": []
  },
  {
   "cell_type": "code",
   "execution_count": 52,
   "id": "a5ead3e3",
   "metadata": {},
   "outputs": [
    {
     "name": "stdout",
     "output_type": "stream",
     "text": [
      "Name Virat\n",
      "Age 31\n",
      "Team RCB\n",
      "Role Captain\n"
     ]
    }
   ],
   "source": [
    "# Iterate through key-value pairs\n",
    "for key, value in vk.items():\n",
    "    print(key, value)"
   ]
  },
  {
   "cell_type": "code",
   "execution_count": 53,
   "id": "26b83920",
   "metadata": {},
   "outputs": [
    {
     "data": {
      "text/plain": [
       "dict_items([('Name', 'Virat'), ('Age', 31), ('Team', 'RCB'), ('Role', 'Captain')])"
      ]
     },
     "execution_count": 53,
     "metadata": {},
     "output_type": "execute_result"
    }
   ],
   "source": [
    "vk.items()"
   ]
  },
  {
   "cell_type": "code",
   "execution_count": null,
   "id": "0e7c2c2e",
   "metadata": {},
   "outputs": [],
   "source": []
  },
  {
   "cell_type": "code",
   "execution_count": 11,
   "id": "0b38fca2",
   "metadata": {},
   "outputs": [
    {
     "name": "stdout",
     "output_type": "stream",
     "text": [
      "0 0\n",
      "0 1\n",
      "0 2\n",
      "1 0\n",
      "1 1\n",
      "1 2\n",
      "2 0\n",
      "2 1\n",
      "2 2\n"
     ]
    }
   ],
   "source": [
    "for i in range(0,3):\n",
    "    for j in range(0,3):\n",
    "        print(i,j)"
   ]
  },
  {
   "cell_type": "code",
   "execution_count": 12,
   "id": "75420aca",
   "metadata": {},
   "outputs": [
    {
     "name": "stdout",
     "output_type": "stream",
     "text": [
      "0 0\n",
      "0 1\n",
      "0 2\n",
      "0 4\n",
      "0 5\n",
      "0 6\n",
      "1 0\n",
      "1 1\n",
      "1 2\n",
      "1 4\n",
      "1 5\n",
      "1 6\n",
      "2 0\n",
      "2 1\n",
      "2 2\n",
      "2 4\n",
      "2 5\n",
      "2 6\n"
     ]
    }
   ],
   "source": [
    "for i in range(0,3):\n",
    "    for j in range(0,3):\n",
    "        print(i,j)        # completing this for each i then moving to k\n",
    "    for k in range(4,7):\n",
    "        print(i,k)        # completing this for each i,k then moving to next i "
   ]
  },
  {
   "cell_type": "code",
   "execution_count": 14,
   "id": "de5fa6ba",
   "metadata": {},
   "outputs": [
    {
     "name": "stdout",
     "output_type": "stream",
     "text": [
      "no of rows : 5\n",
      "*****"
     ]
    }
   ],
   "source": [
    "x=int(input('no of rows : '))\n",
    "\n",
    "for i in range(0,x):\n",
    "    print(\"*\",end='')"
   ]
  },
  {
   "cell_type": "code",
   "execution_count": 15,
   "id": "0370bcf4",
   "metadata": {},
   "outputs": [
    {
     "name": "stdout",
     "output_type": "stream",
     "text": [
      "no of rows : 4\n",
      "* * * * "
     ]
    }
   ],
   "source": [
    "x=int(input('no of rows : '))\n",
    "\n",
    "for i in range(0,x):\n",
    "    print(\"* \",end='')"
   ]
  },
  {
   "cell_type": "code",
   "execution_count": 16,
   "id": "20ec5886",
   "metadata": {},
   "outputs": [
    {
     "name": "stdout",
     "output_type": "stream",
     "text": [
      "no of rows : 8\n",
      "*\n",
      "*\n",
      "*\n",
      "*\n",
      "*\n",
      "*\n",
      "*\n",
      "*\n"
     ]
    }
   ],
   "source": [
    "x=int(input('no of rows : '))\n",
    "\n",
    "for i in range(0,x):\n",
    "    print(\"*\")"
   ]
  },
  {
   "cell_type": "code",
   "execution_count": 17,
   "id": "dd15b55d",
   "metadata": {},
   "outputs": [
    {
     "name": "stdout",
     "output_type": "stream",
     "text": [
      "no of rows : 4\n",
      "**********"
     ]
    }
   ],
   "source": [
    "x=int(input('no of rows : '))\n",
    "\n",
    "for i in range(0,x):\n",
    "    for j in range(0,i+1):\n",
    "        print(\"*\",end='')\n",
    "    "
   ]
  },
  {
   "cell_type": "code",
   "execution_count": 18,
   "id": "ae3bbcb0",
   "metadata": {},
   "outputs": [
    {
     "name": "stdout",
     "output_type": "stream",
     "text": [
      "no of rows : 4\n",
      "*\n",
      "**\n",
      "***\n",
      "****\n"
     ]
    }
   ],
   "source": [
    "x=int(input('no of rows : '))\n",
    "\n",
    "for i in range(0,x):   # decides no of rows \n",
    "    for j in range(0,i+1):    # decides the column structure\n",
    "        print(\"*\",end='')\n",
    "    print()"
   ]
  },
  {
   "cell_type": "code",
   "execution_count": 19,
   "id": "a42bbbf9",
   "metadata": {},
   "outputs": [
    {
     "name": "stdout",
     "output_type": "stream",
     "text": [
      "no of rows : 5\n",
      "* \n",
      "* * \n",
      "* * * \n",
      "* * * * \n",
      "* * * * * \n"
     ]
    }
   ],
   "source": [
    "x=int(input('no of rows : '))\n",
    "\n",
    "for i in range(0,x):   # decides no of rows \n",
    "    for j in range(0,i+1):    # decides the column structure\n",
    "        print(\"* \",end='')    # added space after *\n",
    "    print()"
   ]
  },
  {
   "cell_type": "code",
   "execution_count": 20,
   "id": "b4a0c87b",
   "metadata": {},
   "outputs": [
    {
     "name": "stdout",
     "output_type": "stream",
     "text": [
      "no of rows : 7\n",
      "* \n",
      "* * \n",
      "* * * \n",
      "* * * * \n",
      "* * * * * \n",
      "* * * * * * \n",
      "* * * * * * * \n"
     ]
    }
   ],
   "source": [
    "x=int(input('no of rows : '))\n",
    "\n",
    "for i in range(0,x):   # decides no of rows \n",
    "    for j in range(0,i+1):    # decides the column structure\n",
    "        print(\"* \",end='')    # added space after *\n",
    "    print()"
   ]
  },
  {
   "cell_type": "code",
   "execution_count": null,
   "id": "fd7f5f1e",
   "metadata": {},
   "outputs": [],
   "source": []
  },
  {
   "cell_type": "code",
   "execution_count": 21,
   "id": "ae805a41",
   "metadata": {},
   "outputs": [
    {
     "name": "stdout",
     "output_type": "stream",
     "text": [
      "Enter the number of rows7\n",
      "* \n",
      "* * \n",
      "* * * \n",
      "* * * * \n",
      "* * * * * \n",
      "* * * * * * \n",
      "* * * * * * * \n"
     ]
    }
   ],
   "source": [
    "#Program to print Left Half Pyramid\n",
    "num_rows = int(input(\"Enter the number of rows\"));\n",
    "for i in range(0, num_rows):\n",
    "    for j in range(0, i+1):\n",
    "        print(\"* \", end=\"\")\n",
    "    print()"
   ]
  },
  {
   "cell_type": "code",
   "execution_count": 22,
   "id": "3e182c41",
   "metadata": {},
   "outputs": [
    {
     "name": "stdout",
     "output_type": "stream",
     "text": [
      "Enter the number of rows5\n",
      "* \n",
      "* * \n",
      "* * * \n",
      "* * * * \n",
      "* * * * * \n"
     ]
    }
   ],
   "source": [
    "#Program to print Left Half Pyramid\n",
    "num_rows = int(input(\"Enter the number of rows\"));\n",
    "k = 1\n",
    "for i in range(0, num_rows):\n",
    "    for j in range(0, k):\n",
    "        print(\"* \", end=\"\")\n",
    "    k = k + 1\n",
    "    print()"
   ]
  },
  {
   "cell_type": "code",
   "execution_count": 23,
   "id": "98792cde",
   "metadata": {},
   "outputs": [
    {
     "name": "stdout",
     "output_type": "stream",
     "text": [
      "Enter the number of rows6\n",
      "     * \n",
      "    * * \n",
      "   * * * \n",
      "  * * * * \n",
      " * * * * * \n",
      "* * * * * * \n"
     ]
    }
   ],
   "source": [
    "# Program to print full pyramid\n",
    "num_rows = int(input(\"Enter the number of rows\"));\n",
    "for i in range(0, num_rows):\n",
    "    for j in range(0, num_rows-i-1):\n",
    "        print(end=\" \")\n",
    "    for j in  range(0, i+1):\n",
    "        print(\"*\", end=\" \")\n",
    "    print()"
   ]
  },
  {
   "cell_type": "code",
   "execution_count": 24,
   "id": "ed986252",
   "metadata": {},
   "outputs": [
    {
     "name": "stdout",
     "output_type": "stream",
     "text": [
      "* * *\n",
      "*  *\n",
      "* * *\n"
     ]
    }
   ],
   "source": [
    "n=3\n",
    "for i in range(1,n+1):\n",
    "    print('*',end=' ')\n",
    "    print('*'*abs(2-i),end=' ')\n",
    "    print('*')"
   ]
  },
  {
   "cell_type": "code",
   "execution_count": 25,
   "id": "d86709a7",
   "metadata": {},
   "outputs": [
    {
     "name": "stdout",
     "output_type": "stream",
     "text": [
      "\n",
      "Tuple with a loop\n",
      "('TechGeek',)\n",
      "(('TechGeek',),)\n",
      "((('TechGeek',),),)\n",
      "(((('TechGeek',),),),)\n",
      "((((('TechGeek',),),),),)\n"
     ]
    }
   ],
   "source": [
    "Tuple1 = ('TechGeek')\n",
    "n = 5\n",
    "print(\"\\nTuple with a loop\")\n",
    "for i in range(int(n)):\n",
    "    Tuple1 = (Tuple1,)\n",
    "    print(Tuple1)"
   ]
  },
  {
   "cell_type": "code",
   "execution_count": 26,
   "id": "b970ff55",
   "metadata": {},
   "outputs": [
    {
     "name": "stdout",
     "output_type": "stream",
     "text": [
      "(0, 'eat')\n",
      "(1, 'sleep')\n",
      "(2, 'repeat')\n",
      "100 eat\n",
      "101 sleep\n",
      "102 repeat\n",
      "0\n",
      "eat\n",
      "1\n",
      "sleep\n",
      "2\n",
      "repeat\n"
     ]
    }
   ],
   "source": [
    "# Python program to illustrate\n",
    "# enumerate function in loops\n",
    "l1 = [\"eat\",\"sleep\",\"repeat\"]\n",
    " \n",
    "# printing the tuples in object directly\n",
    "for ele in enumerate(l1):\n",
    "    print (ele)\n",
    "print\n",
    "# changing index and printing separately\n",
    "for count,ele in enumerate(l1,100):\n",
    "    print (count,ele)\n",
    " \n",
    "#getting desired output from tuple\n",
    "for count,ele in enumerate(l1):\n",
    "  print(count)\n",
    "  print(ele)"
   ]
  },
  {
   "cell_type": "code",
   "execution_count": null,
   "id": "94cf27da",
   "metadata": {},
   "outputs": [],
   "source": []
  },
  {
   "cell_type": "markdown",
   "id": "a05825d0",
   "metadata": {},
   "source": [
    "#### Break Continue & Pass"
   ]
  },
  {
   "cell_type": "code",
   "execution_count": 27,
   "id": "27bab27a",
   "metadata": {},
   "outputs": [
    {
     "name": "stdout",
     "output_type": "stream",
     "text": [
      "g\n",
      "k\n",
      " \n",
      "f\n",
      "o\n",
      "r\n",
      " \n",
      "g\n",
      "k\n"
     ]
    }
   ],
   "source": [
    "for i in 'geeks for geeks':\n",
    "    if i=='e' or i=='s':\n",
    "        continue\n",
    "    print (i)"
   ]
  },
  {
   "cell_type": "code",
   "execution_count": 28,
   "id": "a5616dcb",
   "metadata": {},
   "outputs": [
    {
     "name": "stdout",
     "output_type": "stream",
     "text": [
      "Current Letter : g\n",
      "Current Letter : k\n",
      "Current Letter :  \n",
      "Current Letter : f\n",
      "Current Letter : o\n",
      "Current Letter : r\n",
      "Current Letter :  \n",
      "Current Letter : g\n",
      "Current Letter : k\n"
     ]
    }
   ],
   "source": [
    "for letter in 'geeks for geeks': \n",
    "    if letter == 'e' or letter == 's':\n",
    "         continue\n",
    "    print ('Current Letter :', letter)\n",
    "# printing inside the for loop"
   ]
  },
  {
   "cell_type": "code",
   "execution_count": 29,
   "id": "0e39e836",
   "metadata": {},
   "outputs": [
    {
     "name": "stdout",
     "output_type": "stream",
     "text": [
      "Current i : g\n"
     ]
    }
   ],
   "source": [
    "for i in 'geeksforgeeks': \n",
    "    if i == 'e' or i == 's':\n",
    "         break\n",
    "    print ('Current i :', i)\n",
    "# comes out of for loop after printing"
   ]
  },
  {
   "cell_type": "code",
   "execution_count": 30,
   "id": "dfcbfa3e",
   "metadata": {},
   "outputs": [
    {
     "name": "stdout",
     "output_type": "stream",
     "text": [
      "Current i : e\n"
     ]
    }
   ],
   "source": [
    "for i in 'geeksforgeeks': \n",
    "    if i == 'e' or i == 's':\n",
    "        print ('Current i :', i)\n",
    "        break\n",
    "    \n",
    "# print in the if loop then breaks & comes out of for loop\n",
    "# can enter the if loop only for e & s"
   ]
  },
  {
   "cell_type": "code",
   "execution_count": 31,
   "id": "0f9dde07",
   "metadata": {},
   "outputs": [
    {
     "name": "stdout",
     "output_type": "stream",
     "text": [
      "last Letter : g\n",
      "last Letter : e\n",
      "last Letter : e\n",
      "last Letter : k\n",
      "last Letter : s\n",
      "last Letter : f\n",
      "last Letter : o\n",
      "last Letter : r\n",
      "last Letter : g\n",
      "last Letter : e\n",
      "last Letter : e\n",
      "last Letter : k\n",
      "last Letter : s\n"
     ]
    }
   ],
   "source": [
    "# does not matter what condition is it will not execute that loop, execute outof loop\n",
    "for letter in 'geeksforgeeks':\n",
    "    if letter == 'e' or letter == 's':\n",
    "             pass\n",
    "    print ('last Letter :', letter)"
   ]
  },
  {
   "cell_type": "code",
   "execution_count": 32,
   "id": "9530d8e0",
   "metadata": {},
   "outputs": [
    {
     "name": "stdout",
     "output_type": "stream",
     "text": [
      "Last Letter : s\n"
     ]
    }
   ],
   "source": [
    "# An empty loop\n",
    "for letter in 'geeksforgeeks':\n",
    "    pass\n",
    "print('Last Letter :', letter)"
   ]
  },
  {
   "cell_type": "code",
   "execution_count": 33,
   "id": "5628521a",
   "metadata": {},
   "outputs": [
    {
     "name": "stdout",
     "output_type": "stream",
     "text": [
      "0\n",
      "1\n",
      "2\n",
      "3\n",
      "4\n",
      "no break\n"
     ]
    }
   ],
   "source": [
    "####################  FOR LOOP WITH ELSE -- came out because of break ??? #####################################\n",
    "\n",
    "for i in range(5):\n",
    "    print(i)\n",
    "else:\n",
    "    print('no break')"
   ]
  },
  {
   "cell_type": "code",
   "execution_count": 34,
   "id": "f8edf5a9",
   "metadata": {},
   "outputs": [
    {
     "name": "stdout",
     "output_type": "stream",
     "text": [
      "0\n"
     ]
    }
   ],
   "source": [
    "############### FOR LOOP WITH ELSE - came out of for loop bcoz of break hence else is not executed ######################\n",
    "\n",
    "for i in range(5):\n",
    "    print(i)\n",
    "    break\n",
    "else:\n",
    "    print('no break')"
   ]
  },
  {
   "cell_type": "code",
   "execution_count": 35,
   "id": "edcccb57",
   "metadata": {
    "scrolled": true
   },
   "outputs": [
    {
     "name": "stdout",
     "output_type": "stream",
     "text": [
      "0\n",
      "1\n",
      "2\n",
      "3\n",
      "4\n"
     ]
    }
   ],
   "source": [
    "## See diff of print position - more idea of continue\n",
    "\n",
    "for i in range(5):\n",
    "    print(i)\n",
    "    continue"
   ]
  },
  {
   "cell_type": "code",
   "execution_count": 36,
   "id": "192c1aab",
   "metadata": {},
   "outputs": [],
   "source": [
    "for i in range(5):\n",
    "    continue\n",
    "    print(i)"
   ]
  },
  {
   "cell_type": "code",
   "execution_count": 37,
   "id": "c1784d0b",
   "metadata": {},
   "outputs": [
    {
     "name": "stdout",
     "output_type": "stream",
     "text": [
      "25 23 21 19 17 15 13 11 9 7 5 3 "
     ]
    }
   ],
   "source": [
    "for i in range(25,2,-2):\n",
    "    print (i,end=\" \")"
   ]
  },
  {
   "cell_type": "code",
   "execution_count": null,
   "id": "16153aa4",
   "metadata": {},
   "outputs": [],
   "source": []
  },
  {
   "cell_type": "markdown",
   "id": "1ec89c64",
   "metadata": {},
   "source": [
    "#### Break ,Continue & Pass in for loop & def function - diff"
   ]
  },
  {
   "cell_type": "code",
   "execution_count": 2,
   "id": "3657b8b9",
   "metadata": {},
   "outputs": [],
   "source": [
    "for i in range(25,2,-2):\n",
    "    pass"
   ]
  },
  {
   "cell_type": "code",
   "execution_count": 3,
   "id": "8216da5a",
   "metadata": {},
   "outputs": [],
   "source": [
    "for i in range(25,2,-2):\n",
    "    continue"
   ]
  },
  {
   "cell_type": "code",
   "execution_count": 4,
   "id": "1d0ee420",
   "metadata": {},
   "outputs": [],
   "source": [
    "def func(x):\n",
    "    pass"
   ]
  },
  {
   "cell_type": "code",
   "execution_count": 5,
   "id": "bf59e13c",
   "metadata": {},
   "outputs": [
    {
     "ename": "SyntaxError",
     "evalue": "'continue' not properly in loop (<ipython-input-5-5bbc793d7cfa>, line 2)",
     "output_type": "error",
     "traceback": [
      "\u001b[1;36m  File \u001b[1;32m\"<ipython-input-5-5bbc793d7cfa>\"\u001b[1;36m, line \u001b[1;32m2\u001b[0m\n\u001b[1;33m    continue\u001b[0m\n\u001b[1;37m    ^\u001b[0m\n\u001b[1;31mSyntaxError\u001b[0m\u001b[1;31m:\u001b[0m 'continue' not properly in loop\n"
     ]
    }
   ],
   "source": [
    "def func(x):\n",
    "    continue"
   ]
  },
  {
   "cell_type": "code",
   "execution_count": null,
   "id": "afc2f629",
   "metadata": {},
   "outputs": [],
   "source": []
  },
  {
   "cell_type": "code",
   "execution_count": null,
   "id": "9f4c4624",
   "metadata": {},
   "outputs": [],
   "source": []
  },
  {
   "cell_type": "markdown",
   "id": "a5eb1471",
   "metadata": {},
   "source": [
    "## While Loop"
   ]
  },
  {
   "cell_type": "code",
   "execution_count": 38,
   "id": "6e58af49",
   "metadata": {},
   "outputs": [
    {
     "name": "stdout",
     "output_type": "stream",
     "text": [
      "greetings of the day :  sam !\n",
      "greetings of the day :  soham !\n",
      "greetings of the day :  sachin !\n"
     ]
    }
   ],
   "source": [
    "l=['harry','sam','soham','sachin','rahul']\n",
    "i=0\n",
    "while i<len(l):\n",
    "    if l[i].startswith('s'):\n",
    "        print('greetings of the day : ',l[i],'!')\n",
    "    i+=1"
   ]
  },
  {
   "cell_type": "code",
   "execution_count": 39,
   "id": "678a2047",
   "metadata": {},
   "outputs": [
    {
     "name": "stdout",
     "output_type": "stream",
     "text": [
      "0 1 2 3 4 5 6 7 8 9 10 "
     ]
    }
   ],
   "source": [
    "i=0\n",
    "\n",
    "while i in range(11):\n",
    "    print(i,end=' ')\n",
    "    i+=1"
   ]
  },
  {
   "cell_type": "code",
   "execution_count": 40,
   "id": "0f761396",
   "metadata": {},
   "outputs": [
    {
     "name": "stdout",
     "output_type": "stream",
     "text": [
      "0 1 3 6 10 15 21 28 36 45 55 "
     ]
    }
   ],
   "source": [
    "i=0\n",
    "sum=0\n",
    "while i in range(11):\n",
    "    sum=sum+i\n",
    "    i+=1\n",
    "    print(sum,end=' ')"
   ]
  },
  {
   "cell_type": "code",
   "execution_count": 41,
   "id": "ed738697",
   "metadata": {},
   "outputs": [
    {
     "name": "stdout",
     "output_type": "stream",
     "text": [
      "the sum is: 55\n"
     ]
    }
   ],
   "source": [
    "i=1\n",
    "sum=0\n",
    "while i <=10:\n",
    "    sum=sum+i\n",
    "    i+=1\n",
    "print('the sum is:',sum)\n",
    "#printing outof while loop"
   ]
  },
  {
   "cell_type": "code",
   "execution_count": 42,
   "id": "c4099ac0",
   "metadata": {},
   "outputs": [
    {
     "name": "stdout",
     "output_type": "stream",
     "text": [
      " the current letter is :  t\n",
      " the current letter is :  m\n",
      " the current letter is :   \n",
      " the current letter is :  s\n",
      " the current letter is :   \n",
      " the current letter is :  m\n",
      " the current letter is :  o\n",
      " the current letter is :  n\n",
      " the current letter is :  y\n"
     ]
    }
   ],
   "source": [
    "a='time is money'\n",
    "i=0\n",
    "\n",
    "while i in range(len(a)):\n",
    "    if a[i]=='e' or a[i]=='i':\n",
    "        i+=1 # to exit from if loof\n",
    "        continue\n",
    "    print(' the current letter is : ',a[i])\n",
    "    i+=1  # to exit from current while loop"
   ]
  },
  {
   "cell_type": "code",
   "execution_count": 43,
   "id": "9bbf4cee",
   "metadata": {},
   "outputs": [
    {
     "name": "stdout",
     "output_type": "stream",
     "text": [
      " the current letter is :  t\n"
     ]
    }
   ],
   "source": [
    "a='time is money'\n",
    "i=0\n",
    "\n",
    "while i<len(a):\n",
    "    if a[i]=='i' or a[i]=='e':\n",
    "        i+=1 # optional as execution of break exits all loops unlike continue \n",
    "        break\n",
    "    print(' the current letter is : ',a[i])\n",
    "    i+=1  # to exit from current while loop"
   ]
  },
  {
   "cell_type": "code",
   "execution_count": 44,
   "id": "cfe2ee9c",
   "metadata": {},
   "outputs": [
    {
     "name": "stdout",
     "output_type": "stream",
     "text": [
      " the current letter is :  t\n",
      " the current letter is :  m\n",
      " the current letter is :   \n",
      " the current letter is :  s\n",
      " the current letter is :   \n",
      " the current letter is :  m\n",
      " the current letter is :  o\n",
      " the current letter is :  n\n",
      " the current letter is :  y\n"
     ]
    }
   ],
   "source": [
    "a='time is money'\n",
    "i=0\n",
    "\n",
    "while i<len(a):\n",
    "    if a[i]=='i' or a[i]=='e':\n",
    "        i+=1 # optional as execution of break exits all loops unlike continue - it will skip that i as i+1 & prints next\n",
    "        pass\n",
    "    print(' the current letter is : ',a[i])\n",
    "    i+=1  # to exit from current while loop"
   ]
  },
  {
   "cell_type": "code",
   "execution_count": 45,
   "id": "3e92cf11",
   "metadata": {},
   "outputs": [
    {
     "name": "stdout",
     "output_type": "stream",
     "text": [
      " the current letter is :  t\n",
      " the current letter is :  i\n",
      " the current letter is :  m\n",
      " the current letter is :  e\n",
      " the current letter is :   \n",
      " the current letter is :  i\n",
      " the current letter is :  s\n",
      " the current letter is :   \n",
      " the current letter is :  m\n",
      " the current letter is :  o\n",
      " the current letter is :  n\n",
      " the current letter is :  e\n",
      " the current letter is :  y\n"
     ]
    }
   ],
   "source": [
    "a='time is money'\n",
    "i=0\n",
    "\n",
    "while i<len(a):\n",
    "    if a[i]=='i' or a[i]=='e': \n",
    "        pass  \n",
    "    print(' the current letter is : ',a[i])\n",
    "    i+=1  # to exit from current while loop"
   ]
  },
  {
   "cell_type": "code",
   "execution_count": 46,
   "id": "0f63f928",
   "metadata": {},
   "outputs": [
    {
     "name": "stdout",
     "output_type": "stream",
     "text": [
      "1\n",
      "2\n",
      "3\n",
      "4\n"
     ]
    }
   ],
   "source": [
    "i = 0\n",
    "while i < 4:\n",
    "    i += 1\n",
    "    print(i) #start from 1\n"
   ]
  },
  {
   "cell_type": "code",
   "execution_count": 47,
   "id": "88bfa0a9",
   "metadata": {},
   "outputs": [
    {
     "name": "stdout",
     "output_type": "stream",
     "text": [
      "0\n",
      "1\n",
      "2\n",
      "3\n"
     ]
    }
   ],
   "source": [
    "i = 0\n",
    "while i < 4:\n",
    "    print(i)  #start from 0\n",
    "    i += 1"
   ]
  },
  {
   "cell_type": "code",
   "execution_count": 48,
   "id": "f4eaa5f8",
   "metadata": {},
   "outputs": [
    {
     "name": "stdout",
     "output_type": "stream",
     "text": [
      "0\n",
      "1\n",
      "2\n",
      "3\n",
      "no break\n"
     ]
    }
   ],
   "source": [
    "i = 0\n",
    "while i < 4:\n",
    "    print(i)\n",
    "    i+=1\n",
    "else: \n",
    "    print('no break')"
   ]
  },
  {
   "cell_type": "code",
   "execution_count": 49,
   "id": "04d7bb68",
   "metadata": {},
   "outputs": [
    {
     "name": "stdout",
     "output_type": "stream",
     "text": [
      "1\n"
     ]
    }
   ],
   "source": [
    "i = 0\n",
    "while i < 4:\n",
    "    i += 1\n",
    "    print(i)\n",
    "    break\n",
    "else:  # Not executed as there is a break\n",
    "    print(\"No Break\")"
   ]
  },
  {
   "cell_type": "code",
   "execution_count": 50,
   "id": "33e21a33",
   "metadata": {},
   "outputs": [
    {
     "name": "stdout",
     "output_type": "stream",
     "text": [
      "No Break\n"
     ]
    }
   ],
   "source": [
    "i = 5\n",
    "while i < 4:\n",
    "    i += 1\n",
    "    print(i)\n",
    "    break\n",
    "else:  # while not executed as condition is not True  5<4 is false\n",
    "    print(\"No Break\")"
   ]
  },
  {
   "cell_type": "code",
   "execution_count": null,
   "id": "11b01144",
   "metadata": {},
   "outputs": [],
   "source": []
  },
  {
   "cell_type": "markdown",
   "id": "516c43b9",
   "metadata": {},
   "source": [
    "### Excercise "
   ]
  },
  {
   "cell_type": "code",
   "execution_count": 10,
   "id": "32c6af18",
   "metadata": {},
   "outputs": [
    {
     "name": "stdout",
     "output_type": "stream",
     "text": [
      "enter the integer : 89\n",
      "enter the integer : 23\n",
      "enter the integer : 54\n",
      "enter the integer : 98\n",
      "enter the integer : 67\n",
      "[89, 23, 54, 98, 67]\n",
      "98\n"
     ]
    }
   ],
   "source": [
    "# write a program to take five nos from the user and print the largest\n",
    "\n",
    "n=[]\n",
    "for i in range(0,5):\n",
    "    num=int(input('enter the integer : '))\n",
    "    n.append(num)\n",
    "print(n)\n",
    "n.sort()\n",
    "print(n[-1])"
   ]
  },
  {
   "cell_type": "code",
   "execution_count": 6,
   "id": "78b888f4",
   "metadata": {},
   "outputs": [
    {
     "name": "stdout",
     "output_type": "stream",
     "text": [
      "enter the integer : 89\n",
      "enter the integer : 23\n",
      "enter the integer : 54\n",
      "enter the integer : 98\n",
      "enter the integer : 67\n",
      "98\n"
     ]
    }
   ],
   "source": [
    "# write a program to take five nos from the user and print the largest\n",
    "# using max function\n",
    "n=[]\n",
    "for i in range(0,5):\n",
    "    num=int(input('enter the integer : '))\n",
    "    n.append(num)\n",
    "print(max(n))\n"
   ]
  },
  {
   "cell_type": "code",
   "execution_count": 11,
   "id": "7c8ae1c1",
   "metadata": {},
   "outputs": [
    {
     "name": "stdout",
     "output_type": "stream",
     "text": [
      "495\n"
     ]
    }
   ],
   "source": [
    "## write a program to get the sum of all the elements in the list\n",
    "\n",
    "numbers = [11,22,33,44,55,66,77,88,99]\n",
    "\n",
    "s=0\n",
    "for i in numbers:\n",
    "    s=s+i\n",
    "print(s)"
   ]
  },
  {
   "cell_type": "code",
   "execution_count": 7,
   "id": "9d366f60",
   "metadata": {},
   "outputs": [
    {
     "name": "stdout",
     "output_type": "stream",
     "text": [
      "495\n"
     ]
    }
   ],
   "source": [
    "## write a program to get the sum of all the elements in the list\n",
    "\n",
    "numbers = [11,22,33,44,55,66,77,88,99]\n",
    "\n",
    "s=0\n",
    "i=0\n",
    "while i<len(numbers):\n",
    "    \n",
    "    s=s+numbers[i]\n",
    "    i+=1\n",
    "\n",
    "print(s)"
   ]
  },
  {
   "cell_type": "code",
   "execution_count": null,
   "id": "9e6d4699",
   "metadata": {},
   "outputs": [],
   "source": []
  },
  {
   "cell_type": "code",
   "execution_count": 8,
   "id": "50a1a27e",
   "metadata": {},
   "outputs": [
    {
     "data": {
      "text/plain": [
       "['M', 'T', 'H', 'M', 'T', 'C', 'S']"
      ]
     },
     "execution_count": 8,
     "metadata": {},
     "output_type": "execute_result"
    }
   ],
   "source": [
    "sub='MATHEMATICS'\n",
    "consonants=[]\n",
    "for i in sub:\n",
    "    if i=='A' or i=='E' or i=='I' or i=='O' or i=='U':\n",
    "        continue\n",
    "    consonants.append(i)\n",
    "consonants"
   ]
  },
  {
   "cell_type": "code",
   "execution_count": 9,
   "id": "bbe25452",
   "metadata": {},
   "outputs": [
    {
     "data": {
      "text/plain": [
       "['M', 'T', 'H', 'M', 'T', 'C', 'S']"
      ]
     },
     "execution_count": 9,
     "metadata": {},
     "output_type": "execute_result"
    }
   ],
   "source": [
    "sub='MATHEMATICS'\n",
    "consonants=[]\n",
    "for i in sub:\n",
    "    if i not in 'AEIOU':\n",
    "        consonants.append(i)\n",
    "consonants"
   ]
  },
  {
   "cell_type": "code",
   "execution_count": 10,
   "id": "3f2b9c7e",
   "metadata": {},
   "outputs": [
    {
     "data": {
      "text/plain": [
       "['M', 'T', 'H', 'M', 'T', 'C', 'S']"
      ]
     },
     "execution_count": 10,
     "metadata": {},
     "output_type": "execute_result"
    }
   ],
   "source": [
    "[i for i in sub if i not in 'AEIOU']"
   ]
  },
  {
   "cell_type": "code",
   "execution_count": null,
   "id": "9c5baf1a",
   "metadata": {},
   "outputs": [],
   "source": []
  },
  {
   "cell_type": "markdown",
   "id": "9eac8f2f",
   "metadata": {},
   "source": [
    "### take input from user and print reverse of a number\n",
    "### input=123\n",
    "### output=321"
   ]
  },
  {
   "cell_type": "code",
   "execution_count": 1,
   "id": "da8d890f",
   "metadata": {},
   "outputs": [
    {
     "name": "stdout",
     "output_type": "stream",
     "text": [
      "enter the integer : 159\n",
      "951\n"
     ]
    }
   ],
   "source": [
    "### iterating over a string\n",
    "\n",
    "num=input('enter the integer : ')\n",
    "\n",
    "rev=num[::-1]\n",
    "print(rev)"
   ]
  },
  {
   "cell_type": "code",
   "execution_count": 2,
   "id": "9939ad11",
   "metadata": {},
   "outputs": [
    {
     "name": "stdout",
     "output_type": "stream",
     "text": [
      "enter the integer : 19832564\n",
      "46523891\n"
     ]
    }
   ],
   "source": [
    "num=input('enter the integer : ')\n",
    "\n",
    "rev=num[::-1]\n",
    "print(rev)"
   ]
  },
  {
   "cell_type": "code",
   "execution_count": null,
   "id": "8e37156b",
   "metadata": {},
   "outputs": [],
   "source": [
    "#### how to reverse when it is int\n",
    "# dont use string operation\n",
    "\n",
    "\n"
   ]
  },
  {
   "cell_type": "code",
   "execution_count": null,
   "id": "0e4c0592",
   "metadata": {},
   "outputs": [],
   "source": []
  },
  {
   "cell_type": "code",
   "execution_count": null,
   "id": "31b934e2",
   "metadata": {},
   "outputs": [],
   "source": []
  }
 ],
 "metadata": {
  "kernelspec": {
   "display_name": "Python 3 (ipykernel)",
   "language": "python",
   "name": "python3"
  },
  "language_info": {
   "codemirror_mode": {
    "name": "ipython",
    "version": 3
   },
   "file_extension": ".py",
   "mimetype": "text/x-python",
   "name": "python",
   "nbconvert_exporter": "python",
   "pygments_lexer": "ipython3",
   "version": "3.9.7"
  },
  "varInspector": {
   "cols": {
    "lenName": 16,
    "lenType": 16,
    "lenVar": 40
   },
   "kernels_config": {
    "python": {
     "delete_cmd_postfix": "",
     "delete_cmd_prefix": "del ",
     "library": "var_list.py",
     "varRefreshCmd": "print(var_dic_list())"
    },
    "r": {
     "delete_cmd_postfix": ") ",
     "delete_cmd_prefix": "rm(",
     "library": "var_list.r",
     "varRefreshCmd": "cat(var_dic_list()) "
    }
   },
   "types_to_exclude": [
    "module",
    "function",
    "builtin_function_or_method",
    "instance",
    "_Feature"
   ],
   "window_display": false
  }
 },
 "nbformat": 4,
 "nbformat_minor": 5
}
