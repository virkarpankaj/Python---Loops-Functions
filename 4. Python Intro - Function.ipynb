{
 "cells": [
  {
   "cell_type": "markdown",
   "id": "87425ee3",
   "metadata": {},
   "source": [
    "# Functions\n",
    "    \n",
    "    *block of code\n",
    "    *code reusability\n",
    "    * DRY - Don't Repeat Yourself"
   ]
  },
  {
   "cell_type": "markdown",
   "id": "d984da42",
   "metadata": {
    "heading_collapsed": true
   },
   "source": [
    "## In Built Functions "
   ]
  },
  {
   "cell_type": "code",
   "execution_count": 1,
   "id": "e3a7e1c7",
   "metadata": {
    "hidden": true
   },
   "outputs": [
    {
     "name": "stdout",
     "output_type": "stream",
     "text": [
      "enter the value: 17\n"
     ]
    }
   ],
   "source": [
    "# output of input function is always String type\n",
    "\n",
    "val = input('enter the value: ')"
   ]
  },
  {
   "cell_type": "code",
   "execution_count": 2,
   "id": "9cd54884",
   "metadata": {
    "hidden": true
   },
   "outputs": [
    {
     "data": {
      "text/plain": [
       "str"
      ]
     },
     "execution_count": 2,
     "metadata": {},
     "output_type": "execute_result"
    }
   ],
   "source": [
    "type(val)"
   ]
  },
  {
   "cell_type": "code",
   "execution_count": 3,
   "id": "c87be66f",
   "metadata": {
    "hidden": true
   },
   "outputs": [
    {
     "name": "stdout",
     "output_type": "stream",
     "text": [
      "enter the value: 78\n",
      "<class 'int'>\n"
     ]
    }
   ],
   "source": [
    "# converting to int\n",
    "\n",
    "val = int(input('enter the value: '))\n",
    "\n",
    "print(type(val))"
   ]
  },
  {
   "cell_type": "code",
   "execution_count": 4,
   "id": "f0accd22",
   "metadata": {
    "hidden": true
   },
   "outputs": [
    {
     "name": "stdout",
     "output_type": "stream",
     "text": [
      "enter the value: 7\n",
      "<class 'int'>\n"
     ]
    }
   ],
   "source": [
    "# converting to int\n",
    "\n",
    "val = eval(input('enter the value: '))\n",
    "\n",
    "print(type(val))"
   ]
  },
  {
   "cell_type": "code",
   "execution_count": 5,
   "id": "1acb9113",
   "metadata": {
    "hidden": true
   },
   "outputs": [
    {
     "name": "stdout",
     "output_type": "stream",
     "text": [
      "enter the no : 5\n",
      "factorial : 120\n"
     ]
    }
   ],
   "source": [
    "num = int(input('enter the no : '))\n",
    "factorial = 1\n",
    "if num < 0:\n",
    "    print('must be positve')\n",
    "elif num == 0:\n",
    "    print(\"factorial=1\")\n",
    "else:\n",
    "    for i in range(1, num + 1):\n",
    "        factorial = factorial * i\n",
    "    print('factorial :', factorial)"
   ]
  },
  {
   "cell_type": "code",
   "execution_count": 6,
   "id": "da343b46",
   "metadata": {
    "hidden": true
   },
   "outputs": [
    {
     "name": "stdout",
     "output_type": "stream",
     "text": [
      "enter the length:11\n",
      "enter the width:17\n",
      "Area is : 187\n"
     ]
    }
   ],
   "source": [
    "length = input('enter the length:')\n",
    "width = input('enter the width:')\n",
    "Area = int(length) * int(width)\n",
    "print('Area is :', Area)"
   ]
  },
  {
   "cell_type": "code",
   "execution_count": 7,
   "id": "1015a2c1",
   "metadata": {
    "hidden": true
   },
   "outputs": [
    {
     "name": "stdout",
     "output_type": "stream",
     "text": [
      "enter the length:11\n",
      "enter the width:17\n",
      "Area is : 187\n"
     ]
    }
   ],
   "source": [
    "length = int(input('enter the length:'))\n",
    "width = int(input('enter the width:'))\n",
    "Area = length * width\n",
    "print('Area is :', Area)"
   ]
  },
  {
   "cell_type": "code",
   "execution_count": null,
   "id": "e22d66bd",
   "metadata": {
    "hidden": true
   },
   "outputs": [],
   "source": [
    "# eval - converts string to float or int based on value\n",
    "## int - if string is float n we try for int(input) throws error"
   ]
  },
  {
   "cell_type": "code",
   "execution_count": 8,
   "id": "b1c2037d",
   "metadata": {
    "hidden": true
   },
   "outputs": [
    {
     "name": "stdout",
     "output_type": "stream",
     "text": [
      "Hello folks, Welcome to the python session !!I love Python\n"
     ]
    }
   ],
   "source": [
    "### Print function  - always in () == print()\n",
    "\n",
    "a='Hello folks, Welcome to the python session !!'\n",
    "b='I love Python'\n",
    "\n",
    "print(a+b) \n",
    "\n",
    "#both should be of same type\n",
    "# both are string type hence "
   ]
  },
  {
   "cell_type": "code",
   "execution_count": 9,
   "id": "049470e6",
   "metadata": {
    "hidden": true
   },
   "outputs": [
    {
     "name": "stdout",
     "output_type": "stream",
     "text": [
      "Hello folks, Welcome to the python session !! I love Python & "
     ]
    }
   ],
   "source": [
    "print(a,b,end=' & ')"
   ]
  },
  {
   "cell_type": "code",
   "execution_count": 10,
   "id": "8a290f52",
   "metadata": {
    "hidden": true
   },
   "outputs": [
    {
     "name": "stdout",
     "output_type": "stream",
     "text": [
      "updated string  Hello folks I love Python\n"
     ]
    }
   ],
   "source": [
    "print('updated string ',a[0:11],b )"
   ]
  },
  {
   "cell_type": "code",
   "execution_count": 11,
   "id": "253b9d0b",
   "metadata": {
    "hidden": true
   },
   "outputs": [
    {
     "name": "stdout",
     "output_type": "stream",
     "text": [
      "2+5*3\n"
     ]
    }
   ],
   "source": [
    "print('2+5*3')"
   ]
  },
  {
   "cell_type": "code",
   "execution_count": 12,
   "id": "add3001b",
   "metadata": {
    "hidden": true
   },
   "outputs": [
    {
     "name": "stdout",
     "output_type": "stream",
     "text": [
      "22\n"
     ]
    }
   ],
   "source": [
    "print(eval('2+5*4'))   "
   ]
  },
  {
   "cell_type": "code",
   "execution_count": 13,
   "id": "cb3d8722",
   "metadata": {
    "hidden": true
   },
   "outputs": [
    {
     "name": "stdout",
     "output_type": "stream",
     "text": [
      "my name is Pankaj and weight is 62 kgs! my facther name is Prabhakar\n"
     ]
    }
   ],
   "source": [
    "#string formating\n",
    "\n",
    "print(\"my name is %s and weight is %d kgs! my facther name is %s\"%(\"Pankaj\",62,'Prabhakar'))"
   ]
  },
  {
   "cell_type": "code",
   "execution_count": null,
   "id": "c3df20d0",
   "metadata": {
    "hidden": true
   },
   "outputs": [],
   "source": []
  },
  {
   "cell_type": "markdown",
   "id": "8038b20f",
   "metadata": {
    "heading_collapsed": true
   },
   "source": [
    "## Defining a function"
   ]
  },
  {
   "cell_type": "code",
   "execution_count": 14,
   "id": "8da92b72",
   "metadata": {
    "hidden": true
   },
   "outputs": [],
   "source": [
    "def num(x):\n",
    "    if x < 0:\n",
    "        print('must be positve')\n",
    "    elif x == 0:\n",
    "        print(\"factorial:\", 1)\n",
    "    else:\n",
    "        factorial = 1\n",
    "        for i in range(1, x + 1):\n",
    "            factorial = factorial * i\n",
    "        print('factorial :', factorial)"
   ]
  },
  {
   "cell_type": "code",
   "execution_count": 15,
   "id": "40603cf6",
   "metadata": {
    "hidden": true,
    "scrolled": true
   },
   "outputs": [
    {
     "name": "stdout",
     "output_type": "stream",
     "text": [
      "factorial : 120\n"
     ]
    }
   ],
   "source": [
    "num(5)"
   ]
  },
  {
   "cell_type": "code",
   "execution_count": 16,
   "id": "6f93e0b1",
   "metadata": {
    "hidden": true
   },
   "outputs": [],
   "source": [
    "# Prime function\n",
    "\n",
    "\n",
    "def prime(x):\n",
    "\n",
    "    if x < 2:\n",
    "        return 'Not a Prime No'\n",
    "    if x == 2:\n",
    "        return 'A Prime No'\n",
    "    if x > 2:\n",
    "        for n in range(2, x):\n",
    "            print('trying to divide with', n)\n",
    "            if x % n == 0:\n",
    "                return 'Not a Prime No'\n",
    "            else:\n",
    "                return 'A Prime No'"
   ]
  },
  {
   "cell_type": "code",
   "execution_count": 17,
   "id": "8c1bebd2",
   "metadata": {
    "hidden": true
   },
   "outputs": [
    {
     "name": "stdout",
     "output_type": "stream",
     "text": [
      "trying to divide with 2\n"
     ]
    },
    {
     "data": {
      "text/plain": [
       "'Not a Prime No'"
      ]
     },
     "execution_count": 17,
     "metadata": {},
     "output_type": "execute_result"
    }
   ],
   "source": [
    "prime(22)"
   ]
  },
  {
   "cell_type": "code",
   "execution_count": 18,
   "id": "09634c58",
   "metadata": {
    "hidden": true
   },
   "outputs": [
    {
     "name": "stdout",
     "output_type": "stream",
     "text": [
      "trying to divide with 2\n"
     ]
    },
    {
     "data": {
      "text/plain": [
       "'A Prime No'"
      ]
     },
     "execution_count": 18,
     "metadata": {},
     "output_type": "execute_result"
    }
   ],
   "source": [
    "prime(27)\n",
    "# because of return at else - exiting"
   ]
  },
  {
   "cell_type": "code",
   "execution_count": 19,
   "id": "48a2b466",
   "metadata": {
    "hidden": true
   },
   "outputs": [],
   "source": [
    "# Prime function\n",
    "\n",
    "\n",
    "def prime1(x):\n",
    "\n",
    "    if x < 2:\n",
    "        return 'Not a Prime No'\n",
    "    if x == 2:\n",
    "        return 'A Prime No'\n",
    "    if x > 2:\n",
    "        for n in range(2, x):\n",
    "            print('trying to divide with', n)\n",
    "            if x % n == 0:\n",
    "                return 'Not a Prime No'\n",
    "        return 'A Prime No'"
   ]
  },
  {
   "cell_type": "code",
   "execution_count": 20,
   "id": "0142cfa3",
   "metadata": {
    "hidden": true
   },
   "outputs": [
    {
     "name": "stdout",
     "output_type": "stream",
     "text": [
      "trying to divide with 2\n"
     ]
    },
    {
     "data": {
      "text/plain": [
       "'Not a Prime No'"
      ]
     },
     "execution_count": 20,
     "metadata": {},
     "output_type": "execute_result"
    }
   ],
   "source": [
    "prime1(22)"
   ]
  },
  {
   "cell_type": "code",
   "execution_count": 21,
   "id": "d080e85d",
   "metadata": {
    "hidden": true
   },
   "outputs": [
    {
     "name": "stdout",
     "output_type": "stream",
     "text": [
      "trying to divide with 2\n",
      "trying to divide with 3\n"
     ]
    },
    {
     "data": {
      "text/plain": [
       "'Not a Prime No'"
      ]
     },
     "execution_count": 21,
     "metadata": {},
     "output_type": "execute_result"
    }
   ],
   "source": [
    "prime1(27)"
   ]
  },
  {
   "cell_type": "code",
   "execution_count": 22,
   "id": "b4c01596",
   "metadata": {
    "hidden": true
   },
   "outputs": [
    {
     "name": "stdout",
     "output_type": "stream",
     "text": [
      "trying to divide with 2\n",
      "trying to divide with 3\n",
      "trying to divide with 4\n",
      "trying to divide with 5\n",
      "trying to divide with 6\n",
      "trying to divide with 7\n",
      "trying to divide with 8\n",
      "trying to divide with 9\n",
      "trying to divide with 10\n",
      "trying to divide with 11\n",
      "trying to divide with 12\n",
      "trying to divide with 13\n",
      "trying to divide with 14\n",
      "trying to divide with 15\n",
      "trying to divide with 16\n",
      "trying to divide with 17\n",
      "trying to divide with 18\n",
      "trying to divide with 19\n",
      "trying to divide with 20\n",
      "trying to divide with 21\n",
      "trying to divide with 22\n",
      "trying to divide with 23\n",
      "trying to divide with 24\n",
      "trying to divide with 25\n",
      "trying to divide with 26\n",
      "trying to divide with 27\n",
      "trying to divide with 28\n"
     ]
    },
    {
     "data": {
      "text/plain": [
       "'A Prime No'"
      ]
     },
     "execution_count": 22,
     "metadata": {},
     "output_type": "execute_result"
    }
   ],
   "source": [
    "prime1(29)"
   ]
  },
  {
   "cell_type": "code",
   "execution_count": 23,
   "id": "f352b624",
   "metadata": {
    "hidden": true
   },
   "outputs": [],
   "source": [
    "# it is trying too many iterations\n",
    "# optimizing"
   ]
  },
  {
   "cell_type": "code",
   "execution_count": 24,
   "id": "957f9626",
   "metadata": {
    "hidden": true
   },
   "outputs": [],
   "source": [
    "# Prime function\n",
    "\n",
    "\n",
    "def prime1(x):\n",
    "\n",
    "    if x < 2:\n",
    "        return 'Not a Prime No'\n",
    "    if x == 2:\n",
    "        return 'A Prime No'\n",
    "    if x > 2:\n",
    "        for n in range(2, x // 2 + 1):\n",
    "            print('trying to divide with', n)\n",
    "            if x % n == 0:\n",
    "                return 'Not a Prime No'\n",
    "        return 'A Prime No'"
   ]
  },
  {
   "cell_type": "code",
   "execution_count": 25,
   "id": "54689b79",
   "metadata": {
    "hidden": true
   },
   "outputs": [
    {
     "name": "stdout",
     "output_type": "stream",
     "text": [
      "trying to divide with 2\n",
      "trying to divide with 3\n",
      "trying to divide with 4\n",
      "trying to divide with 5\n",
      "trying to divide with 6\n",
      "trying to divide with 7\n",
      "trying to divide with 8\n",
      "trying to divide with 9\n",
      "trying to divide with 10\n",
      "trying to divide with 11\n",
      "trying to divide with 12\n",
      "trying to divide with 13\n",
      "trying to divide with 14\n"
     ]
    },
    {
     "data": {
      "text/plain": [
       "'A Prime No'"
      ]
     },
     "execution_count": 25,
     "metadata": {},
     "output_type": "execute_result"
    }
   ],
   "source": [
    "prime1(29)"
   ]
  },
  {
   "cell_type": "code",
   "execution_count": 26,
   "id": "adad4f4f",
   "metadata": {
    "hidden": true
   },
   "outputs": [],
   "source": [
    "# further optimizing - even number\n",
    "\n",
    "# Prime function\n",
    "\n",
    "\n",
    "def prime1(x):\n",
    "\n",
    "    if x < 2:\n",
    "        return 'Not a Prime No'\n",
    "\n",
    "    if x == 2 or x == 3 or x == 5:\n",
    "        return 'A Prime No'\n",
    "\n",
    "    for n in range(2, x):\n",
    "        if x % 2 == 0:  # if x%2==0 or x%3==0 or x%5==0:  elif\n",
    "            return 'Not a Prime No'\n",
    "        if x % 3 == 0:\n",
    "            return 'Not a Prime No'\n",
    "        if x % 5 == 0:\n",
    "            return 'Not a Prime No'\n",
    "\n",
    "    for n in range(3, x // 2 + 1, 2):\n",
    "        print('trying to divide with', n)\n",
    "        if x % n == 0:\n",
    "            return 'Not a Prime No'\n",
    "    return 'A Prime No'"
   ]
  },
  {
   "cell_type": "code",
   "execution_count": 27,
   "id": "062edd87",
   "metadata": {
    "hidden": true
   },
   "outputs": [
    {
     "name": "stdout",
     "output_type": "stream",
     "text": [
      "trying to divide with 3\n",
      "trying to divide with 5\n",
      "trying to divide with 7\n",
      "trying to divide with 9\n",
      "trying to divide with 11\n",
      "trying to divide with 13\n"
     ]
    },
    {
     "data": {
      "text/plain": [
       "'A Prime No'"
      ]
     },
     "execution_count": 27,
     "metadata": {},
     "output_type": "execute_result"
    }
   ],
   "source": [
    "prime1(29)"
   ]
  },
  {
   "cell_type": "code",
   "execution_count": 28,
   "id": "4a2a5b3c",
   "metadata": {
    "hidden": true
   },
   "outputs": [
    {
     "data": {
      "text/plain": [
       "'Not a Prime No'"
      ]
     },
     "execution_count": 28,
     "metadata": {},
     "output_type": "execute_result"
    }
   ],
   "source": [
    "prime1(27)"
   ]
  },
  {
   "cell_type": "code",
   "execution_count": 31,
   "id": "61cb0d7c",
   "metadata": {
    "hidden": true
   },
   "outputs": [
    {
     "data": {
      "text/plain": [
       "'Not a Prime No'"
      ]
     },
     "execution_count": 31,
     "metadata": {},
     "output_type": "execute_result"
    }
   ],
   "source": [
    "prime1(4)"
   ]
  },
  {
   "cell_type": "code",
   "execution_count": null,
   "id": "5a7de742",
   "metadata": {
    "hidden": true
   },
   "outputs": [],
   "source": []
  },
  {
   "cell_type": "code",
   "execution_count": 98,
   "id": "c6fec383",
   "metadata": {
    "hidden": true
   },
   "outputs": [],
   "source": [
    "def is_valid_zip(zip_code):\n",
    "    \"\"\"Returns whether the input string is a valid (6 digit) zip code   type will tell str in both cases as shown below\n",
    "    \"\"\"\n",
    "    \n",
    "    if len(zip_code)==6 and zip_code.isdigit():\n",
    "        return True\n",
    "    else:\n",
    "        return 'enter a valid Zip Code'"
   ]
  },
  {
   "cell_type": "code",
   "execution_count": 99,
   "id": "872c63a9",
   "metadata": {
    "hidden": true
   },
   "outputs": [
    {
     "data": {
      "text/plain": [
       "True"
      ]
     },
     "execution_count": 99,
     "metadata": {},
     "output_type": "execute_result"
    }
   ],
   "source": [
    "is_valid_zip('431506')"
   ]
  },
  {
   "cell_type": "code",
   "execution_count": 100,
   "id": "1d14282d",
   "metadata": {
    "hidden": true
   },
   "outputs": [
    {
     "data": {
      "text/plain": [
       "[False, False, True, True]"
      ]
     },
     "execution_count": 100,
     "metadata": {},
     "output_type": "execute_result"
    }
   ],
   "source": [
    "def elementwise_greater_than(L, thresh):\n",
    "    \"\"\"Return a list with the same length as L, where the value at index i is \n",
    "    True if L[i] is greater than thresh, and False otherwise.\n",
    "    \n",
    "    >>> elementwise_greater_than([1, 2, 3, 4], 2)\n",
    "    [False, False, True, True] \"\"\"\n",
    "    \n",
    "    lis = []\n",
    "    for item in L:\n",
    "        if item > thresh:\n",
    "            lis.append(True)\n",
    "        else:\n",
    "            lis.append(False)\n",
    "    return lis\n",
    "\n",
    "elementwise_greater_than([1, 2, 3, 4], 2)  "
   ]
  },
  {
   "cell_type": "code",
   "execution_count": 101,
   "id": "6602fd05",
   "metadata": {
    "hidden": true
   },
   "outputs": [
    {
     "data": {
      "text/plain": [
       "[False, False, True, True]"
      ]
     },
     "execution_count": 101,
     "metadata": {},
     "output_type": "execute_result"
    }
   ],
   "source": [
    "def elementwise_greater_than2(L, thresh):\n",
    "    list1=[]\n",
    "    for item in L:\n",
    "        list1.append(item>thresh)    # inside () will give Boolen o/p\n",
    "        \n",
    "    return list1\n",
    "elementwise_greater_than([1, 2, 3, 4], 2)"
   ]
  },
  {
   "cell_type": "code",
   "execution_count": null,
   "id": "41853e88",
   "metadata": {
    "hidden": true
   },
   "outputs": [],
   "source": []
  },
  {
   "cell_type": "code",
   "execution_count": null,
   "id": "8c080ce7",
   "metadata": {
    "hidden": true
   },
   "outputs": [],
   "source": []
  },
  {
   "cell_type": "markdown",
   "id": "b01b4da5",
   "metadata": {},
   "source": [
    "## Inbuilt Functions - Cont.\n"
   ]
  },
  {
   "cell_type": "markdown",
   "id": "3c484e09",
   "metadata": {
    "heading_collapsed": true
   },
   "source": [
    "### Lambda - Anonymous Function"
   ]
  },
  {
   "cell_type": "code",
   "execution_count": 34,
   "id": "3367b931",
   "metadata": {
    "hidden": true
   },
   "outputs": [],
   "source": [
    "# known as anonymous function - need to give name \n",
    "y = lambda x:x*5"
   ]
  },
  {
   "cell_type": "code",
   "execution_count": 35,
   "id": "953aaada",
   "metadata": {
    "hidden": true
   },
   "outputs": [
    {
     "data": {
      "text/plain": [
       "25"
      ]
     },
     "execution_count": 35,
     "metadata": {},
     "output_type": "execute_result"
    }
   ],
   "source": [
    "# call function y \n",
    "y(5)"
   ]
  },
  {
   "cell_type": "code",
   "execution_count": 36,
   "id": "5c1d3ad2",
   "metadata": {
    "hidden": true
   },
   "outputs": [],
   "source": [
    "prim= lambda x : 'A Prime No' if len([i for i in range(2,x) if x%i==0])==0 else ' Not a Prime No'"
   ]
  },
  {
   "cell_type": "code",
   "execution_count": 37,
   "id": "8557c751",
   "metadata": {
    "hidden": true
   },
   "outputs": [
    {
     "data": {
      "text/plain": [
       "'A Prime No'"
      ]
     },
     "execution_count": 37,
     "metadata": {},
     "output_type": "execute_result"
    }
   ],
   "source": [
    "# will not work for <=2 as condition given \n",
    "prim(2)"
   ]
  },
  {
   "cell_type": "code",
   "execution_count": 38,
   "id": "37377505",
   "metadata": {
    "hidden": true
   },
   "outputs": [
    {
     "data": {
      "text/plain": [
       "' Not a Prime No'"
      ]
     },
     "execution_count": 38,
     "metadata": {},
     "output_type": "execute_result"
    }
   ],
   "source": [
    "prim(4)"
   ]
  },
  {
   "cell_type": "code",
   "execution_count": 39,
   "id": "355830cf",
   "metadata": {
    "hidden": true
   },
   "outputs": [
    {
     "data": {
      "text/plain": [
       "'A Prime No'"
      ]
     },
     "execution_count": 39,
     "metadata": {},
     "output_type": "execute_result"
    }
   ],
   "source": [
    "prim(5)"
   ]
  },
  {
   "cell_type": "code",
   "execution_count": 40,
   "id": "dc99704c",
   "metadata": {
    "hidden": true
   },
   "outputs": [
    {
     "name": "stdout",
     "output_type": "stream",
     "text": [
      "gives list of all who can divide the number \n"
     ]
    },
    {
     "data": {
      "text/plain": [
       "[2, 3, 4, 6]"
      ]
     },
     "execution_count": 40,
     "metadata": {},
     "output_type": "execute_result"
    }
   ],
   "source": [
    "fun=lambda x:[i for i in range(2,x) if x%i==0]\n",
    "print('gives list of all who can divide the number ')\n",
    "fun(12)\n"
   ]
  },
  {
   "cell_type": "code",
   "execution_count": 41,
   "id": "3679bb49",
   "metadata": {
    "hidden": true
   },
   "outputs": [
    {
     "data": {
      "text/plain": [
       "5"
      ]
     },
     "execution_count": 41,
     "metadata": {},
     "output_type": "execute_result"
    }
   ],
   "source": [
    "Maxt= lambda a,b: a if a>b else b\n",
    "Maxt(5,4)"
   ]
  },
  {
   "cell_type": "code",
   "execution_count": 42,
   "id": "26d6cac3",
   "metadata": {
    "hidden": true
   },
   "outputs": [
    {
     "data": {
      "text/plain": [
       "[3, 16, 9]"
      ]
     },
     "execution_count": 42,
     "metadata": {},
     "output_type": "execute_result"
    }
   ],
   "source": [
    "#Python Lambda with Multiple statements\n",
    "\n",
    "List = [[2,3,4],[1, 4, 16, 64],[3, 6, 9, 12]]\n",
    " \n",
    "# Sort each sublist\n",
    "sortList = lambda x: (sorted(i) for i in x)\n",
    "\n",
    "# Get the second largest element\n",
    "secondLargest = lambda x, f : [y[len(y)-2] for y in f(x)]\n",
    "\n",
    "res = secondLargest(List, sortList)\n",
    "\n",
    "res"
   ]
  },
  {
   "cell_type": "code",
   "execution_count": null,
   "id": "b598e0ee",
   "metadata": {
    "hidden": true
   },
   "outputs": [],
   "source": []
  },
  {
   "cell_type": "code",
   "execution_count": null,
   "id": "70497a23",
   "metadata": {
    "hidden": true
   },
   "outputs": [],
   "source": []
  },
  {
   "cell_type": "code",
   "execution_count": 43,
   "id": "848a680e",
   "metadata": {
    "hidden": true
   },
   "outputs": [
    {
     "name": "stdout",
     "output_type": "stream",
     "text": [
      "10\n",
      "20\n",
      "30\n",
      "40\n",
      "50\n",
      "60\n",
      "70\n",
      "80\n",
      "90\n",
      "100\n"
     ]
    }
   ],
   "source": [
    "### \n",
    "tables = [lambda x=x: x*10 for x in range(1, 11)]\n",
    "\n",
    "# table is fun here as assigned to the lambda\n",
    "for table in tables:\n",
    "    print(table())"
   ]
  },
  {
   "cell_type": "code",
   "execution_count": null,
   "id": "5b6e16e4",
   "metadata": {
    "hidden": true
   },
   "outputs": [],
   "source": []
  },
  {
   "cell_type": "markdown",
   "id": "e5772a6a",
   "metadata": {
    "heading_collapsed": true
   },
   "source": [
    "### List Comprehension"
   ]
  },
  {
   "cell_type": "code",
   "execution_count": null,
   "id": "68e81179",
   "metadata": {
    "hidden": true
   },
   "outputs": [],
   "source": [
    "# [o/p for i in ...... if ...else ....]"
   ]
  },
  {
   "cell_type": "code",
   "execution_count": 44,
   "id": "e94fa791",
   "metadata": {
    "hidden": true
   },
   "outputs": [],
   "source": [
    "l=[1,2,3,4,5,6,7,8,9,9.3,10,11,13,17,19,21,27,33,63.4,77]"
   ]
  },
  {
   "cell_type": "code",
   "execution_count": 45,
   "id": "6e6c7354",
   "metadata": {
    "hidden": true,
    "scrolled": true
   },
   "outputs": [],
   "source": [
    "# even , odd & float in len(l)\n",
    "l1=[[i for i in range(len(l)) if i%2==0],[i for i in range(len(l)) if i%2==1],[i for i in range(len(l)) if type(i)==float]]"
   ]
  },
  {
   "cell_type": "code",
   "execution_count": 46,
   "id": "6f5898b4",
   "metadata": {
    "hidden": true
   },
   "outputs": [
    {
     "data": {
      "text/plain": [
       "[[0, 2, 4, 6, 8, 10, 12, 14, 16, 18], [1, 3, 5, 7, 9, 11, 13, 15, 17, 19], []]"
      ]
     },
     "execution_count": 46,
     "metadata": {},
     "output_type": "execute_result"
    }
   ],
   "source": [
    "l1"
   ]
  },
  {
   "cell_type": "code",
   "execution_count": 47,
   "id": "f7743cdf",
   "metadata": {
    "hidden": true
   },
   "outputs": [
    {
     "data": {
      "text/plain": [
       "[[2, 4, 6, 8, 10],\n",
       " [1, 3, 5, 7, 9, 11, 13, 17, 19, 21, 27, 33, 77],\n",
       " [9.3, 63.4]]"
      ]
     },
     "execution_count": 47,
     "metadata": {},
     "output_type": "execute_result"
    }
   ],
   "source": [
    "# even , odd & float in l\n",
    "l2=[[i for i in l if i%2==0],[i for i in l if i%2==1],[i for i in l if type(i)==float]]\n",
    "l2"
   ]
  },
  {
   "cell_type": "code",
   "execution_count": 48,
   "id": "dafe936e",
   "metadata": {
    "hidden": true
   },
   "outputs": [
    {
     "data": {
      "text/plain": [
       "{'Mercury': 'M',\n",
       " 'Venus': 'V',\n",
       " 'Earth': 'E',\n",
       " 'Mars': 'M',\n",
       " 'Jupiter': 'J',\n",
       " 'Saturn': 'S',\n",
       " 'Uranus': 'U',\n",
       " 'Neptune': 'N'}"
      ]
     },
     "execution_count": 48,
     "metadata": {},
     "output_type": "execute_result"
    }
   ],
   "source": [
    "### Python has dictionary comprehensions with a syntax similar to the list comprehensions we saw in the previous tutorial.\n",
    "planets = ['Mercury', 'Venus', 'Earth', 'Mars', 'Jupiter', 'Saturn', 'Uranus', 'Neptune']\n",
    "planet_to_initial = {planet: planet[0] for planet in planets}\n",
    "planet_to_initial"
   ]
  },
  {
   "cell_type": "code",
   "execution_count": 1,
   "id": "f4e2b2a7",
   "metadata": {
    "hidden": true
   },
   "outputs": [
    {
     "data": {
      "text/plain": [
       "['M', 'T', 'H', 'M', 'T', 'C', 'S']"
      ]
     },
     "execution_count": 1,
     "metadata": {},
     "output_type": "execute_result"
    }
   ],
   "source": [
    "sub='MATHEMATICS'\n",
    "consonants=[]\n",
    "for i in sub:\n",
    "    if i=='A' or i=='E' or i=='I' or i=='O' or i=='U':\n",
    "        continue\n",
    "    consonants.append(i)\n",
    "consonants"
   ]
  },
  {
   "cell_type": "code",
   "execution_count": 4,
   "id": "c6ac547b",
   "metadata": {
    "hidden": true
   },
   "outputs": [
    {
     "data": {
      "text/plain": [
       "['M', 'T', 'H', 'M', 'T', 'C', 'S']"
      ]
     },
     "execution_count": 4,
     "metadata": {},
     "output_type": "execute_result"
    }
   ],
   "source": [
    "cons=[i for i in sub if i!='A' and i!='E' and i!='I' and i!='O' and i!='U' ]\n",
    "cons"
   ]
  },
  {
   "cell_type": "code",
   "execution_count": 5,
   "id": "9c3bf5c0",
   "metadata": {
    "hidden": true
   },
   "outputs": [
    {
     "data": {
      "text/plain": [
       "['M', 'T', 'H', 'M', 'T', 'C', 'S']"
      ]
     },
     "execution_count": 5,
     "metadata": {},
     "output_type": "execute_result"
    }
   ],
   "source": [
    "consonants=[i for i in sub if i not in 'AEIOU']\n",
    "consonants"
   ]
  },
  {
   "cell_type": "code",
   "execution_count": 7,
   "id": "461e6478",
   "metadata": {
    "hidden": true
   },
   "outputs": [
    {
     "data": {
      "text/plain": [
       "['www.amazon.com',\n",
       " 'www.amazon.org',\n",
       " 'www.amazon.in',\n",
       " 'www.flipkart.com',\n",
       " 'www.flipkart.org',\n",
       " 'www.flipkart.in',\n",
       " 'www.snapdeal.com',\n",
       " 'www.snapdeal.org',\n",
       " 'www.snapdeal.in',\n",
       " 'www.paytm.com',\n",
       " 'www.paytm.org',\n",
       " 'www.paytm.in']"
      ]
     },
     "execution_count": 7,
     "metadata": {},
     "output_type": "execute_result"
    }
   ],
   "source": [
    "# multiple for loops inside LC\n",
    "websites = [\"amazon\", \"flipkart\", \"snapdeal\", \"paytm\"]\n",
    "extensions = [\"com\", \"org\", \"in\"]\n",
    "\n",
    "name= [f'www.{i}.{j}' for i in websites for j in extensions ]\n",
    "name"
   ]
  },
  {
   "cell_type": "code",
   "execution_count": 9,
   "id": "a003e9f2",
   "metadata": {
    "hidden": true
   },
   "outputs": [],
   "source": [
    "s = \"Welcome to the world of Python Programming\"\n",
    "# [(\"Welcome\", 7), (\"to\", 2), (\"the\", 3), ...]"
   ]
  },
  {
   "cell_type": "code",
   "execution_count": null,
   "id": "4e7cd13a",
   "metadata": {
    "hidden": true
   },
   "outputs": [],
   "source": [
    "# Approach 1 -> Normal , Without LC\n",
    "# Approach 2 -> Using LC"
   ]
  },
  {
   "cell_type": "code",
   "execution_count": 12,
   "id": "be45685b",
   "metadata": {
    "hidden": true
   },
   "outputs": [
    {
     "data": {
      "text/plain": [
       "[('Welcome', 7),\n",
       " ('to', 2),\n",
       " ('the', 3),\n",
       " ('world', 5),\n",
       " ('of', 2),\n",
       " ('Python', 6),\n",
       " ('Programming', 11)]"
      ]
     },
     "execution_count": 12,
     "metadata": {},
     "output_type": "execute_result"
    }
   ],
   "source": [
    "# approach 1\n",
    "lst=[]\n",
    "for i in s.split(' '):\n",
    "    lst.append((i,len(i)))\n",
    "lst"
   ]
  },
  {
   "cell_type": "code",
   "execution_count": 13,
   "id": "18408f85",
   "metadata": {
    "hidden": true
   },
   "outputs": [
    {
     "data": {
      "text/plain": [
       "[('Welcome', 7),\n",
       " ('to', 2),\n",
       " ('the', 3),\n",
       " ('world', 5),\n",
       " ('of', 2),\n",
       " ('Python', 6),\n",
       " ('Programming', 11)]"
      ]
     },
     "execution_count": 13,
     "metadata": {},
     "output_type": "execute_result"
    }
   ],
   "source": [
    "# approach 2\n",
    "\n",
    "[(i,len(i)) for i in s.split(' ')]"
   ]
  },
  {
   "cell_type": "code",
   "execution_count": null,
   "id": "5db45bc4",
   "metadata": {
    "hidden": true
   },
   "outputs": [],
   "source": [
    "#  Write a program which will find all such numbers which are divisible by 7\n",
    "# but are not a multiple of 5, between 200 and 320 (both included).\n",
    "# The numbers obtained should be printed in a comma-separated\n",
    "# sequence on a single line.\n",
    "#\n",
    "# Hints:\n",
    "# Consider use range(#begin, #end) method"
   ]
  },
  {
   "cell_type": "code",
   "execution_count": null,
   "id": "86d41cf7",
   "metadata": {
    "hidden": true
   },
   "outputs": [],
   "source": [
    "# Approach 1 -> Normal , Without LC\n",
    "# Approach 2 -> Using LC"
   ]
  },
  {
   "cell_type": "code",
   "execution_count": 17,
   "id": "d20e7993",
   "metadata": {
    "hidden": true
   },
   "outputs": [
    {
     "name": "stdout",
     "output_type": "stream",
     "text": [
      "203,217,224,231,238,252,259,266,273,287,294,301,308\n"
     ]
    }
   ],
   "source": [
    "# Approach 1 -> Normal , Without LC\n",
    "n=[]\n",
    "for i in range(200,321,1):\n",
    "    if i%5!=0:\n",
    "        if i%7==0:\n",
    "            n.append(str(i))\n",
    "print(\",\".join(n))"
   ]
  },
  {
   "cell_type": "code",
   "execution_count": 20,
   "id": "ff0c14c6",
   "metadata": {
    "hidden": true
   },
   "outputs": [
    {
     "data": {
      "text/plain": [
       "'203,217,224,231,238,252,259,266,273,287,294,301,308'"
      ]
     },
     "execution_count": 20,
     "metadata": {},
     "output_type": "execute_result"
    }
   ],
   "source": [
    "','.join([str(i) for i in range(200,321) if i%5!=0 and i%7==0 ])"
   ]
  },
  {
   "cell_type": "code",
   "execution_count": 21,
   "id": "13513653",
   "metadata": {
    "hidden": true
   },
   "outputs": [
    {
     "data": {
      "text/plain": [
       "{1: 1, 2: 4, 3: 9, 4: 16, 5: 25, 6: 36, 7: 49, 8: 64, 9: 81, 10: 100}"
      ]
     },
     "execution_count": 21,
     "metadata": {},
     "output_type": "execute_result"
    }
   ],
   "source": [
    "{item:item*item for item in range(1,11)}"
   ]
  },
  {
   "cell_type": "code",
   "execution_count": 22,
   "id": "2bc1887f",
   "metadata": {
    "hidden": true
   },
   "outputs": [],
   "source": [
    "s = \"the quick brown fox jumps over the lazy dog\"\n",
    "# {\"t\": 2, \"h\": 1, ...}"
   ]
  },
  {
   "cell_type": "code",
   "execution_count": 24,
   "id": "ce5ec994",
   "metadata": {
    "hidden": true
   },
   "outputs": [
    {
     "data": {
      "text/plain": [
       "{'t': 2,\n",
       " 'h': 2,\n",
       " 'e': 3,\n",
       " ' ': 8,\n",
       " 'q': 1,\n",
       " 'u': 2,\n",
       " 'i': 1,\n",
       " 'c': 1,\n",
       " 'k': 1,\n",
       " 'b': 1,\n",
       " 'r': 2,\n",
       " 'o': 4,\n",
       " 'w': 1,\n",
       " 'n': 1,\n",
       " 'f': 1,\n",
       " 'x': 1,\n",
       " 'j': 1,\n",
       " 'm': 1,\n",
       " 'p': 1,\n",
       " 's': 1,\n",
       " 'v': 1,\n",
       " 'l': 1,\n",
       " 'a': 1,\n",
       " 'z': 1,\n",
       " 'y': 1,\n",
       " 'd': 1,\n",
       " 'g': 1}"
      ]
     },
     "execution_count": 24,
     "metadata": {},
     "output_type": "execute_result"
    }
   ],
   "source": [
    "{i:s.count(i) for i in s}"
   ]
  },
  {
   "cell_type": "code",
   "execution_count": null,
   "id": "86003c42",
   "metadata": {
    "hidden": true
   },
   "outputs": [],
   "source": []
  },
  {
   "cell_type": "code",
   "execution_count": null,
   "id": "adca5f44",
   "metadata": {
    "hidden": true
   },
   "outputs": [],
   "source": []
  },
  {
   "cell_type": "markdown",
   "id": "fdde6e81",
   "metadata": {
    "heading_collapsed": true
   },
   "source": [
    "### Recursion"
   ]
  },
  {
   "cell_type": "code",
   "execution_count": 49,
   "id": "80fe3496",
   "metadata": {
    "hidden": true
   },
   "outputs": [],
   "source": [
    "############### Recurssion Function  ( Function within Function) #################\n",
    "\n",
    "def factorial(x):\n",
    "    if x==0 or x==1:\n",
    "        return 1\n",
    "    if x>1:\n",
    "        return x*factorial(x-1)"
   ]
  },
  {
   "cell_type": "code",
   "execution_count": 50,
   "id": "37ab6b5b",
   "metadata": {
    "hidden": true
   },
   "outputs": [
    {
     "data": {
      "text/plain": [
       "120"
      ]
     },
     "execution_count": 50,
     "metadata": {},
     "output_type": "execute_result"
    }
   ],
   "source": [
    "factorial(5)"
   ]
  },
  {
   "cell_type": "code",
   "execution_count": 51,
   "id": "89269272",
   "metadata": {
    "hidden": true
   },
   "outputs": [
    {
     "data": {
      "text/plain": [
       "39916800"
      ]
     },
     "execution_count": 51,
     "metadata": {},
     "output_type": "execute_result"
    }
   ],
   "source": [
    "factorial(11)"
   ]
  },
  {
   "cell_type": "code",
   "execution_count": 52,
   "id": "51183099",
   "metadata": {
    "hidden": true
   },
   "outputs": [],
   "source": [
    "# or\n",
    "def facto(x):\n",
    "    if x==0:\n",
    "        return 1\n",
    "    else:\n",
    "        return facto(x-1)*x"
   ]
  },
  {
   "cell_type": "code",
   "execution_count": 53,
   "id": "ac8b1428",
   "metadata": {
    "hidden": true
   },
   "outputs": [
    {
     "data": {
      "text/plain": [
       "5040"
      ]
     },
     "execution_count": 53,
     "metadata": {},
     "output_type": "execute_result"
    }
   ],
   "source": [
    "facto(7)"
   ]
  },
  {
   "cell_type": "code",
   "execution_count": 54,
   "id": "14b5cb2c",
   "metadata": {
    "hidden": true
   },
   "outputs": [
    {
     "data": {
      "text/plain": [
       "6"
      ]
     },
     "execution_count": 54,
     "metadata": {},
     "output_type": "execute_result"
    }
   ],
   "source": [
    "facto(3)"
   ]
  },
  {
   "cell_type": "code",
   "execution_count": 68,
   "id": "511fca4a",
   "metadata": {
    "hidden": true
   },
   "outputs": [
    {
     "name": "stdout",
     "output_type": "stream",
     "text": [
      "enter the no to find factorial = 5\n",
      "120\n"
     ]
    }
   ],
   "source": [
    "n=eval(input('enter the no to find factorial = '))\n",
    "i=1\n",
    "s=1\n",
    "while i<=n:\n",
    "    s=s*i\n",
    "    i+=1\n",
    "\n",
    "print(s)"
   ]
  },
  {
   "cell_type": "code",
   "execution_count": 67,
   "id": "0af4fe52",
   "metadata": {
    "hidden": true
   },
   "outputs": [],
   "source": [
    "def fibonassi(x):\n",
    "    if x==1 or x ==2:\n",
    "        return 1\n",
    "    else:\n",
    "        return fibonassi(x-1)+fibonassi(x-2)"
   ]
  },
  {
   "cell_type": "code",
   "execution_count": 56,
   "id": "13c04ad4",
   "metadata": {
    "hidden": true
   },
   "outputs": [
    {
     "data": {
      "text/plain": [
       "13"
      ]
     },
     "execution_count": 56,
     "metadata": {},
     "output_type": "execute_result"
    }
   ],
   "source": [
    "fibonassi(7)"
   ]
  },
  {
   "cell_type": "code",
   "execution_count": 57,
   "id": "05b6276d",
   "metadata": {
    "hidden": true
   },
   "outputs": [
    {
     "data": {
      "text/plain": [
       "233"
      ]
     },
     "execution_count": 57,
     "metadata": {},
     "output_type": "execute_result"
    }
   ],
   "source": [
    "fibonassi(13)"
   ]
  },
  {
   "cell_type": "code",
   "execution_count": null,
   "id": "9c47fe11",
   "metadata": {
    "hidden": true
   },
   "outputs": [],
   "source": []
  },
  {
   "cell_type": "markdown",
   "id": "d0509468",
   "metadata": {
    "heading_collapsed": true
   },
   "source": [
    "### MAP  & FILTER "
   ]
  },
  {
   "cell_type": "code",
   "execution_count": 69,
   "id": "d5a3313d",
   "metadata": {
    "hidden": true
   },
   "outputs": [
    {
     "data": {
      "text/plain": [
       "[5, 10, 15, 20, 25]"
      ]
     },
     "execution_count": 69,
     "metadata": {},
     "output_type": "execute_result"
    }
   ],
   "source": [
    "# Map -- iterates over the sequence like list,tuple\n",
    "\n",
    "# list(map(fun, seq))\n",
    "\n",
    "l=[1,2,3,4,5]\n",
    "\n",
    "#multiply by some no\n",
    "\n",
    "f=lambda x:x*5\n",
    "\n",
    "list(map(f,l))"
   ]
  },
  {
   "cell_type": "code",
   "execution_count": 70,
   "id": "73db3fb3",
   "metadata": {
    "hidden": true
   },
   "outputs": [
    {
     "data": {
      "text/plain": [
       "[25, 30, 35, 40, 45, 50]"
      ]
     },
     "execution_count": 70,
     "metadata": {},
     "output_type": "execute_result"
    }
   ],
   "source": [
    "l1=(5,6,7,8,9,10)\n",
    "\n",
    "list(map(f,l1))"
   ]
  },
  {
   "cell_type": "code",
   "execution_count": 71,
   "id": "57eaaded",
   "metadata": {
    "hidden": true
   },
   "outputs": [
    {
     "name": "stdout",
     "output_type": "stream",
     "text": [
      "trying to divide with 3\n",
      "trying to divide with 3\n",
      "trying to divide with 5\n",
      "trying to divide with 3\n",
      "trying to divide with 5\n",
      "trying to divide with 3\n",
      "trying to divide with 5\n",
      "trying to divide with 7\n",
      "trying to divide with 3\n",
      "trying to divide with 5\n",
      "trying to divide with 7\n",
      "trying to divide with 9\n"
     ]
    },
    {
     "data": {
      "text/plain": [
       "['Not a Prime No',\n",
       " 'A Prime No',\n",
       " 'A Prime No',\n",
       " 'Not a Prime No',\n",
       " 'A Prime No',\n",
       " 'Not a Prime No',\n",
       " 'A Prime No',\n",
       " 'Not a Prime No',\n",
       " 'Not a Prime No',\n",
       " 'Not a Prime No',\n",
       " 'A Prime No',\n",
       " 'A Prime No',\n",
       " 'A Prime No',\n",
       " 'A Prime No',\n",
       " 'Not a Prime No',\n",
       " 'Not a Prime No',\n",
       " 'Not a Prime No']"
      ]
     },
     "execution_count": 71,
     "metadata": {},
     "output_type": "execute_result"
    }
   ],
   "source": [
    "l2=[1,2,3,4,5,6,7,8,9,10,11,13,17,19,21,27,33]\n",
    "\n",
    "list(map(prime1,l2))"
   ]
  },
  {
   "cell_type": "code",
   "execution_count": null,
   "id": "ba2974bc",
   "metadata": {
    "hidden": true
   },
   "outputs": [],
   "source": [
    "# take a sequence of inputs(nos)(which are comma separated)\n",
    "#cal the sum\n"
   ]
  },
  {
   "cell_type": "code",
   "execution_count": 4,
   "id": "2561c13e",
   "metadata": {
    "hidden": true
   },
   "outputs": [
    {
     "name": "stdout",
     "output_type": "stream",
     "text": [
      "enter the no: 1\n",
      "enter the no: 2\n",
      "enter the no: 3\n",
      "enter the no: 4\n",
      "enter the no: 5\n",
      "[1, 2, 3, 4, 5]\n",
      "sum is 15\n"
     ]
    }
   ],
   "source": [
    "# not , separated num\n",
    "n=[]\n",
    "for i in range(5):\n",
    "    v=eval(input('enter the no: '))\n",
    "    n.append(v)\n",
    "print(n) \n",
    "s=0\n",
    "for i in n:\n",
    "    s+=i\n",
    "print(f'sum is {s}')"
   ]
  },
  {
   "cell_type": "code",
   "execution_count": 5,
   "id": "961408fe",
   "metadata": {
    "hidden": true
   },
   "outputs": [
    {
     "name": "stdout",
     "output_type": "stream",
     "text": [
      "enter the Comma seperated no: 1,2,3,4,5\n",
      "sum is 15\n"
     ]
    }
   ],
   "source": [
    "v=input('enter the Comma seperated no: ')\n",
    "\n",
    "num=v.split(',')  #list\n",
    "s=0\n",
    "for i in num:\n",
    "    s+=eval(i)\n",
    "print(f'sum is {s}')"
   ]
  },
  {
   "cell_type": "code",
   "execution_count": 25,
   "id": "a769d4f5",
   "metadata": {
    "hidden": true
   },
   "outputs": [
    {
     "name": "stdout",
     "output_type": "stream",
     "text": [
      "enter the sequence of no MUST be comma separated: 1,2,3,4,5\n",
      "15\n"
     ]
    }
   ],
   "source": [
    "### BY List Comprehension   - we get list - apply on list\n",
    "\n",
    "print(sum(list(map(eval,input('enter the sequence of no MUST be comma separated: ').split(',')))))"
   ]
  },
  {
   "cell_type": "code",
   "execution_count": 26,
   "id": "0c685ed2",
   "metadata": {
    "hidden": true
   },
   "outputs": [
    {
     "name": "stdout",
     "output_type": "stream",
     "text": [
      "enter the sequence of no  MUST be comma separated : 8,2,7,9,3\n"
     ]
    },
    {
     "data": {
      "text/plain": [
       "29"
      ]
     },
     "execution_count": 26,
     "metadata": {},
     "output_type": "execute_result"
    }
   ],
   "source": [
    "sum(list(map(eval,input('enter the sequence of no  MUST be comma separated : ').split(','))))"
   ]
  },
  {
   "cell_type": "code",
   "execution_count": null,
   "id": "ad902499",
   "metadata": {
    "hidden": true
   },
   "outputs": [],
   "source": []
  },
  {
   "cell_type": "code",
   "execution_count": null,
   "id": "c14dd7fb",
   "metadata": {
    "hidden": true
   },
   "outputs": [],
   "source": [
    "# sum of list element , map is fun where you iterate over each element in list"
   ]
  },
  {
   "cell_type": "code",
   "execution_count": 72,
   "id": "57a6228e",
   "metadata": {
    "hidden": true
   },
   "outputs": [
    {
     "data": {
      "text/plain": [
       "[2, 4, 6, 8, 10, 26, 32]"
      ]
     },
     "execution_count": 72,
     "metadata": {},
     "output_type": "execute_result"
    }
   ],
   "source": [
    "# Filter -- iterates over the sequence like list,tuple & filters objects based on fun\n",
    "\n",
    "# list(filter(fun, seq))\n",
    "\n",
    "l=[2,3,4,5,6,8,10,11,13,26,29,32]\n",
    "\n",
    "#filtering even nos\n",
    "\n",
    "f=lambda x:(x%2==0)\n",
    "\n",
    "list(filter(f,l))"
   ]
  },
  {
   "cell_type": "code",
   "execution_count": 73,
   "id": "f448679b",
   "metadata": {
    "hidden": true
   },
   "outputs": [
    {
     "data": {
      "text/plain": [
       "[5, 7, 97, 77, 23, 73, 61]"
      ]
     },
     "execution_count": 73,
     "metadata": {},
     "output_type": "execute_result"
    }
   ],
   "source": [
    "# filter() with lambda()\n",
    "li = [5, 7, 22, 97, 54, 62, 77, 23, 73, 61]\n",
    "\n",
    "list(filter(lambda x:(x%2!=0) , li))"
   ]
  },
  {
   "cell_type": "code",
   "execution_count": 74,
   "id": "28c4f425",
   "metadata": {
    "hidden": true
   },
   "outputs": [
    {
     "data": {
      "text/plain": [
       "[90, 59, 21, 60]"
      ]
     },
     "execution_count": 74,
     "metadata": {},
     "output_type": "execute_result"
    }
   ],
   "source": [
    "# code to people above 18 yrs\n",
    "ages = [13, 90, 17, 59, 21, 60, 5]\n",
    "\n",
    "list(filter(lambda x:(x>18),ages))"
   ]
  },
  {
   "cell_type": "code",
   "execution_count": null,
   "id": "63ff0211",
   "metadata": {
    "hidden": true
   },
   "outputs": [],
   "source": []
  },
  {
   "cell_type": "markdown",
   "id": "eb214680",
   "metadata": {
    "heading_collapsed": true
   },
   "source": [
    "### Reduce "
   ]
  },
  {
   "cell_type": "code",
   "execution_count": 75,
   "id": "af71f7d9",
   "metadata": {
    "hidden": true
   },
   "outputs": [],
   "source": [
    "################################# Reduce #############################\n",
    "\n",
    "from functools import reduce \n",
    "\n",
    "# gets roll over \n",
    "\n",
    "a,b,c,d,e --- a+b,c,d,e -- a+b+c,d,e  ---a+b+c+d,e ---- a+b+c+d+e\n",
    "a,b,c,d,e --- a*b,c,d,e -- a*b*c,d,e  ---a*b*c*d,e ---- a*b*c*d*e"
   ]
  },
  {
   "cell_type": "code",
   "execution_count": 76,
   "id": "40734922",
   "metadata": {
    "hidden": true
   },
   "outputs": [
    {
     "data": {
      "text/plain": [
       "15"
      ]
     },
     "execution_count": 76,
     "metadata": {},
     "output_type": "execute_result"
    }
   ],
   "source": [
    "def fun(a,b):\n",
    "    return a+b\n",
    "\n",
    "reduce(fun,[1,2,3,4,5])"
   ]
  },
  {
   "cell_type": "code",
   "execution_count": 77,
   "id": "10f5e1b5",
   "metadata": {
    "hidden": true
   },
   "outputs": [
    {
     "data": {
      "text/plain": [
       "6000000"
      ]
     },
     "execution_count": 77,
     "metadata": {},
     "output_type": "execute_result"
    }
   ],
   "source": [
    "li = [5, 8, 10, 20, 50, 15]\n",
    "\n",
    "reduce((lambda x,y:x*y), li)"
   ]
  },
  {
   "cell_type": "code",
   "execution_count": 78,
   "id": "1a0e5b2d",
   "metadata": {
    "hidden": true
   },
   "outputs": [
    {
     "data": {
      "text/plain": [
       "189"
      ]
     },
     "execution_count": 78,
     "metadata": {},
     "output_type": "execute_result"
    }
   ],
   "source": [
    "lst = [5, 8, 10, 20, 50, 100,27,38,44,189]\n",
    "\n",
    "reduce((lambda x,y:x if x>y else y ), lst)"
   ]
  },
  {
   "cell_type": "code",
   "execution_count": null,
   "id": "2e6ebfe2",
   "metadata": {
    "hidden": true
   },
   "outputs": [],
   "source": []
  },
  {
   "cell_type": "markdown",
   "id": "59408e1a",
   "metadata": {
    "heading_collapsed": true
   },
   "source": [
    "### Chain"
   ]
  },
  {
   "cell_type": "code",
   "execution_count": 79,
   "id": "10670458",
   "metadata": {
    "hidden": true
   },
   "outputs": [],
   "source": [
    "#to join the range\n",
    "#concatenation of range \n",
    "\n",
    "from itertools import chain"
   ]
  },
  {
   "cell_type": "code",
   "execution_count": 80,
   "id": "f7791753",
   "metadata": {
    "hidden": true
   },
   "outputs": [
    {
     "name": "stdout",
     "output_type": "stream",
     "text": [
      "0 1 2 3 4 10 12 14 16 18 "
     ]
    }
   ],
   "source": [
    "res=chain(range(5),range(10,20,2))\n",
    "\n",
    "for i in res:\n",
    "    print(i,end=' ')"
   ]
  },
  {
   "cell_type": "code",
   "execution_count": null,
   "id": "8505087a",
   "metadata": {
    "hidden": true
   },
   "outputs": [],
   "source": []
  },
  {
   "cell_type": "code",
   "execution_count": null,
   "id": "e7dce2c5",
   "metadata": {
    "hidden": true
   },
   "outputs": [],
   "source": []
  },
  {
   "cell_type": "markdown",
   "id": "73c37fee",
   "metadata": {
    "heading_collapsed": true
   },
   "source": [
    "### Generator Function  "
   ]
  },
  {
   "cell_type": "code",
   "execution_count": 81,
   "id": "9369c5a7",
   "metadata": {
    "hidden": true
   },
   "outputs": [
    {
     "data": {
      "text/plain": [
       "<generator object <genexpr> at 0x0000017232E41AC0>"
      ]
     },
     "execution_count": 81,
     "metadata": {},
     "output_type": "execute_result"
    }
   ],
   "source": [
    "### it calculates but does not shows the list (tuple comprehension)\n",
    "b=(i for i in range(2,10))\n",
    "b"
   ]
  },
  {
   "cell_type": "code",
   "execution_count": 82,
   "id": "5ed17015",
   "metadata": {
    "hidden": true
   },
   "outputs": [
    {
     "data": {
      "text/plain": [
       "[2, 3, 4, 5, 6, 7, 8, 9]"
      ]
     },
     "execution_count": 82,
     "metadata": {},
     "output_type": "execute_result"
    }
   ],
   "source": [
    "# to visiualize\n",
    "list(b)"
   ]
  },
  {
   "cell_type": "code",
   "execution_count": 83,
   "id": "6c6ed119",
   "metadata": {
    "hidden": true
   },
   "outputs": [
    {
     "data": {
      "text/plain": [
       "()"
      ]
     },
     "execution_count": 83,
     "metadata": {},
     "output_type": "execute_result"
    }
   ],
   "source": [
    "tuple(b)"
   ]
  },
  {
   "cell_type": "code",
   "execution_count": 84,
   "id": "fb88a134",
   "metadata": {
    "hidden": true
   },
   "outputs": [
    {
     "data": {
      "text/plain": [
       "[2, 3, 4, 5, 6, 7, 8, 9]"
      ]
     },
     "execution_count": 84,
     "metadata": {},
     "output_type": "execute_result"
    }
   ],
   "source": [
    "### it calculates and shows the list (list comprehension)\n",
    "a=[i for i in range(2,10)]\n",
    "a"
   ]
  },
  {
   "cell_type": "markdown",
   "id": "fbbf5853",
   "metadata": {
    "heading_collapsed": true
   },
   "source": [
    "### Exception Handeling"
   ]
  },
  {
   "cell_type": "code",
   "execution_count": null,
   "id": "130bd13f",
   "metadata": {
    "hidden": true
   },
   "outputs": [],
   "source": [
    "# without intrupting the code it executes it and tell us error"
   ]
  },
  {
   "cell_type": "code",
   "execution_count": 85,
   "id": "7865cc1e",
   "metadata": {
    "hidden": true
   },
   "outputs": [],
   "source": [
    "def mfun(x,y):\n",
    "    try:\n",
    "        return x/y\n",
    "    except Exception as e :\n",
    "        print (\"we got \",e,\" an error\")"
   ]
  },
  {
   "cell_type": "code",
   "execution_count": 86,
   "id": "0733ddd4",
   "metadata": {
    "hidden": true
   },
   "outputs": [
    {
     "name": "stdout",
     "output_type": "stream",
     "text": [
      "we got  division by zero  an error\n"
     ]
    }
   ],
   "source": [
    "mfun(10,0)"
   ]
  },
  {
   "cell_type": "code",
   "execution_count": 87,
   "id": "41dd01ec",
   "metadata": {
    "hidden": true
   },
   "outputs": [
    {
     "name": "stdout",
     "output_type": "stream",
     "text": [
      "Second element = 2, third element = 3, my name is = pankaj\n",
      "sec ele = 2\n",
      "An error occurred\n"
     ]
    }
   ],
   "source": [
    "a = [1, 2, 3]\n",
    "try:\n",
    "    print (\"Second element = %d, third element = %d, my name is = %s\" %(a[1], a[2], \"pankaj\"))\n",
    "    print (\"sec ele = {}\".format(a[1]))\n",
    " \n",
    "    # Throws error since there are only 3 elements in array\n",
    "    print (\"Fourth element = %d\" %(a[3]))\n",
    "except :\n",
    "        print (\"An error occurred\")"
   ]
  },
  {
   "cell_type": "code",
   "execution_count": 88,
   "id": "43a38444",
   "metadata": {
    "hidden": true
   },
   "outputs": [],
   "source": [
    "# Program to handle multiple errors with one\n",
    "# except statement\n",
    "# Python 3\n",
    " \n",
    "def fun(a):\n",
    "    if a < 4:\n",
    " \n",
    "        # throws ZeroDivisionError for a = 3\n",
    "        b = a/(a-3)\n",
    " \n",
    "    # throws NameError if a >= 4\n",
    "    print(\"Value of b = \", b)\n",
    "    "
   ]
  },
  {
   "cell_type": "code",
   "execution_count": 89,
   "id": "d51fadba",
   "metadata": {
    "hidden": true
   },
   "outputs": [
    {
     "ename": "ZeroDivisionError",
     "evalue": "division by zero",
     "output_type": "error",
     "traceback": [
      "\u001b[1;31m---------------------------------------------------------------------------\u001b[0m",
      "\u001b[1;31mZeroDivisionError\u001b[0m                         Traceback (most recent call last)",
      "\u001b[1;32m<ipython-input-89-46d0ec26d6b8>\u001b[0m in \u001b[0;36m<module>\u001b[1;34m\u001b[0m\n\u001b[0;32m      1\u001b[0m \u001b[1;31m# without try & except\u001b[0m\u001b[1;33m\u001b[0m\u001b[1;33m\u001b[0m\u001b[1;33m\u001b[0m\u001b[0m\n\u001b[1;32m----> 2\u001b[1;33m \u001b[0mfun\u001b[0m\u001b[1;33m(\u001b[0m\u001b[1;36m3\u001b[0m\u001b[1;33m)\u001b[0m\u001b[1;33m\u001b[0m\u001b[1;33m\u001b[0m\u001b[0m\n\u001b[0m",
      "\u001b[1;32m<ipython-input-88-49613823260e>\u001b[0m in \u001b[0;36mfun\u001b[1;34m(a)\u001b[0m\n\u001b[0;32m      7\u001b[0m \u001b[1;33m\u001b[0m\u001b[0m\n\u001b[0;32m      8\u001b[0m         \u001b[1;31m# throws ZeroDivisionError for a = 3\u001b[0m\u001b[1;33m\u001b[0m\u001b[1;33m\u001b[0m\u001b[1;33m\u001b[0m\u001b[0m\n\u001b[1;32m----> 9\u001b[1;33m         \u001b[0mb\u001b[0m \u001b[1;33m=\u001b[0m \u001b[0ma\u001b[0m\u001b[1;33m/\u001b[0m\u001b[1;33m(\u001b[0m\u001b[0ma\u001b[0m\u001b[1;33m-\u001b[0m\u001b[1;36m3\u001b[0m\u001b[1;33m)\u001b[0m\u001b[1;33m\u001b[0m\u001b[1;33m\u001b[0m\u001b[0m\n\u001b[0m\u001b[0;32m     10\u001b[0m \u001b[1;33m\u001b[0m\u001b[0m\n\u001b[0;32m     11\u001b[0m     \u001b[1;31m# throws NameError if a >= 4\u001b[0m\u001b[1;33m\u001b[0m\u001b[1;33m\u001b[0m\u001b[1;33m\u001b[0m\u001b[0m\n",
      "\u001b[1;31mZeroDivisionError\u001b[0m: division by zero"
     ]
    }
   ],
   "source": [
    "# without try & except \n",
    "fun(3)"
   ]
  },
  {
   "cell_type": "code",
   "execution_count": 90,
   "id": "4da425fb",
   "metadata": {
    "hidden": true
   },
   "outputs": [
    {
     "ename": "UnboundLocalError",
     "evalue": "local variable 'b' referenced before assignment",
     "output_type": "error",
     "traceback": [
      "\u001b[1;31m---------------------------------------------------------------------------\u001b[0m",
      "\u001b[1;31mUnboundLocalError\u001b[0m                         Traceback (most recent call last)",
      "\u001b[1;32m<ipython-input-90-4955fa2e7079>\u001b[0m in \u001b[0;36m<module>\u001b[1;34m\u001b[0m\n\u001b[0;32m      1\u001b[0m \u001b[1;31m# without try & except\u001b[0m\u001b[1;33m\u001b[0m\u001b[1;33m\u001b[0m\u001b[1;33m\u001b[0m\u001b[0m\n\u001b[1;32m----> 2\u001b[1;33m \u001b[0mfun\u001b[0m\u001b[1;33m(\u001b[0m\u001b[1;36m5\u001b[0m\u001b[1;33m)\u001b[0m\u001b[1;33m\u001b[0m\u001b[1;33m\u001b[0m\u001b[0m\n\u001b[0m",
      "\u001b[1;32m<ipython-input-88-49613823260e>\u001b[0m in \u001b[0;36mfun\u001b[1;34m(a)\u001b[0m\n\u001b[0;32m     10\u001b[0m \u001b[1;33m\u001b[0m\u001b[0m\n\u001b[0;32m     11\u001b[0m     \u001b[1;31m# throws NameError if a >= 4\u001b[0m\u001b[1;33m\u001b[0m\u001b[1;33m\u001b[0m\u001b[1;33m\u001b[0m\u001b[0m\n\u001b[1;32m---> 12\u001b[1;33m     \u001b[0mprint\u001b[0m\u001b[1;33m(\u001b[0m\u001b[1;34m\"Value of b = \"\u001b[0m\u001b[1;33m,\u001b[0m \u001b[0mb\u001b[0m\u001b[1;33m)\u001b[0m\u001b[1;33m\u001b[0m\u001b[1;33m\u001b[0m\u001b[0m\n\u001b[0m\u001b[0;32m     13\u001b[0m \u001b[1;33m\u001b[0m\u001b[0m\n",
      "\u001b[1;31mUnboundLocalError\u001b[0m: local variable 'b' referenced before assignment"
     ]
    }
   ],
   "source": [
    "# without try & except \n",
    "fun(5)"
   ]
  },
  {
   "cell_type": "code",
   "execution_count": 91,
   "id": "59f763a2",
   "metadata": {
    "hidden": true
   },
   "outputs": [],
   "source": [
    "def func(a):\n",
    "    try:\n",
    "        if a < 4:\n",
    " \n",
    "            # throws ZeroDivisionError for a = 3\n",
    "            b = a/(a-3)\n",
    " \n",
    "            # throws NameError if a >= 4\n",
    "            print(\"Value of b = \", b)\n",
    "        else:\n",
    "            print('Value of b', a)\n",
    "    except ZeroDivisionError:\n",
    "        print('zero division error occured & handeled')\n",
    "\n",
    "    except NameError:\n",
    "        print('Name error occured & handeled')\n",
    "    \n",
    "    except exception as e:\n",
    "        print('we got an' ,e,'error')"
   ]
  },
  {
   "cell_type": "code",
   "execution_count": 92,
   "id": "c7ad2e8a",
   "metadata": {
    "hidden": true
   },
   "outputs": [
    {
     "name": "stdout",
     "output_type": "stream",
     "text": [
      "zero division error occured & handeled\n"
     ]
    }
   ],
   "source": [
    "func(3)"
   ]
  },
  {
   "cell_type": "code",
   "execution_count": 93,
   "id": "a5c418ce",
   "metadata": {
    "hidden": true
   },
   "outputs": [
    {
     "name": "stdout",
     "output_type": "stream",
     "text": [
      "Value of b 5\n"
     ]
    }
   ],
   "source": [
    "func(5)"
   ]
  },
  {
   "cell_type": "code",
   "execution_count": 94,
   "id": "97da1b2b",
   "metadata": {
    "hidden": true
   },
   "outputs": [
    {
     "name": "stdout",
     "output_type": "stream",
     "text": [
      "Value of b 7\n"
     ]
    }
   ],
   "source": [
    "func(7)"
   ]
  },
  {
   "cell_type": "markdown",
   "id": "e062e860",
   "metadata": {
    "hidden": true
   },
   "source": [
    "#### Exception Handling with  Else & Finally Statement\n",
    " \n",
    " * Else - Executed only when Try part is successful   ( similar to for statement with else)\n",
    " * Finally - Executes Every time "
   ]
  },
  {
   "cell_type": "code",
   "execution_count": null,
   "id": "f9a6d861",
   "metadata": {
    "hidden": true
   },
   "outputs": [],
   "source": [
    "try:\n",
    "    fh = open(\"ExceptionHandling.txt\", \"w\")\n",
    "    fh.write(\"Opening the file.\\n\")\n",
    "\n",
    "    userInput = input(\"Enter any number: \")\n",
    "    fh.write(\"The user entered number is: {}\\n\".format(userInput))\n",
    "\n",
    "    result = 100 / int(userInput)\n",
    "    fh.write(\"The final result is: {}\\n\".format(result))\n",
    "\n",
    "    print(\"Result: \", result)\n",
    "    # fh.write(\"Closing the file\")\n",
    "    # fh.close()\n",
    "except ValueError:\n",
    "    print(\"Please enter only numbers\")\n",
    "except ZeroDivisionError:\n",
    "    print(\"Please enter numbers greater than zero.\")\n",
    "finally:\n",
    "    fh.write(\"Closing the file\")\n",
    "    fh.close()"
   ]
  },
  {
   "cell_type": "code",
   "execution_count": null,
   "id": "683ff1f2",
   "metadata": {
    "hidden": true
   },
   "outputs": [],
   "source": []
  },
  {
   "cell_type": "code",
   "execution_count": null,
   "id": "d499f93d",
   "metadata": {
    "hidden": true
   },
   "outputs": [],
   "source": []
  },
  {
   "cell_type": "markdown",
   "id": "dfdfbdd1",
   "metadata": {
    "heading_collapsed": true
   },
   "source": [
    "### Enumerate Function"
   ]
  },
  {
   "cell_type": "code",
   "execution_count": 102,
   "id": "66fe3f92",
   "metadata": {
    "hidden": true
   },
   "outputs": [
    {
     "data": {
      "text/plain": [
       "[(0, 'P'), (1, 'a'), (2, 'n'), (3, 'k'), (4, 'a'), (5, 'j')]"
      ]
     },
     "execution_count": 102,
     "metadata": {},
     "output_type": "execute_result"
    }
   ],
   "source": [
    "# enumerate - adds counter  - STRING\n",
    "\n",
    "string1='Pankaj'\n",
    "\n",
    "list(enumerate(string1))\n",
    "\n",
    "# for string - (counter,character)\n",
    "# index,items or count,ele"
   ]
  },
  {
   "cell_type": "code",
   "execution_count": 103,
   "id": "8ee161bf",
   "metadata": {
    "hidden": true
   },
   "outputs": [
    {
     "data": {
      "text/plain": [
       "[(0, 'Pankaj'), (1, 'is'), (2, 'a'), (3, 'good'), (4, 'boy')]"
      ]
     },
     "execution_count": 103,
     "metadata": {},
     "output_type": "execute_result"
    }
   ],
   "source": [
    "# enumerate - adds counter  - LIST\n",
    "\n",
    "lst=['Pankaj', 'is','a','good','boy']\n",
    "\n",
    "list(enumerate(lst))\n",
    "\n",
    "# for List - (counter,character)  - compare with string"
   ]
  },
  {
   "cell_type": "code",
   "execution_count": 104,
   "id": "3f5744f5",
   "metadata": {
    "hidden": true
   },
   "outputs": [
    {
     "data": {
      "text/plain": [
       "[(0, 'bee'), (1, 'ant'), (2, 'moth'), (3, 'ant')]"
      ]
     },
     "execution_count": 104,
     "metadata": {},
     "output_type": "execute_result"
    }
   ],
   "source": [
    "# enumerate  -- TUPLE\n",
    "\n",
    "a = (\"bee\", \"ant\", \"moth\", \"ant\")\n",
    "\n",
    "list(enumerate(a))"
   ]
  },
  {
   "cell_type": "code",
   "execution_count": 6,
   "id": "012574cb",
   "metadata": {
    "hidden": true
   },
   "outputs": [
    {
     "data": {
      "text/plain": [
       "[(0, 'snake'), (1, 'ant'), (2, 'dog'), (3, 'moth'), (4, 'bee')]"
      ]
     },
     "execution_count": 6,
     "metadata": {},
     "output_type": "execute_result"
    }
   ],
   "source": [
    "# enumerate  -- SET\n",
    "\n",
    "a = {\"bee\", \"ant\", \"moth\", \"ant\",'snake','dog'}\n",
    "\n",
    "list(enumerate(a))"
   ]
  },
  {
   "cell_type": "code",
   "execution_count": 7,
   "id": "faae555d",
   "metadata": {
    "hidden": true
   },
   "outputs": [
    {
     "data": {
      "text/plain": [
       "[(0, 'bee'), (1, 'ant'), (2, 'moth'), (3, 'snake'), (4, 'dog')]"
      ]
     },
     "execution_count": 7,
     "metadata": {},
     "output_type": "execute_result"
    }
   ],
   "source": [
    "# enumerate  -- dict\n",
    "\n",
    "a = {\"bee\":31, \"ant\":62, \"moth\":77, \"ant\":88,'snake':45,'dog':17}\n",
    "\n",
    "list(enumerate(a))"
   ]
  },
  {
   "cell_type": "code",
   "execution_count": 9,
   "id": "6766260a",
   "metadata": {
    "hidden": true
   },
   "outputs": [
    {
     "data": {
      "text/plain": [
       "[(0, 31), (1, 88), (2, 77), (3, 45), (4, 17)]"
      ]
     },
     "execution_count": 9,
     "metadata": {},
     "output_type": "execute_result"
    }
   ],
   "source": [
    "# enumerate  -- dict\n",
    "\n",
    "a = {\"bee\":31, \"ant\":62, \"moth\":77, \"ant\":88,'snake':45,'dog':17}\n",
    "\n",
    "list(enumerate(a.values()))"
   ]
  },
  {
   "cell_type": "code",
   "execution_count": 10,
   "id": "443f6c52",
   "metadata": {
    "hidden": true
   },
   "outputs": [
    {
     "data": {
      "text/plain": [
       "[(0, ('bee', 31)),\n",
       " (1, ('ant', 88)),\n",
       " (2, ('moth', 77)),\n",
       " (3, ('snake', 45)),\n",
       " (4, ('dog', 17))]"
      ]
     },
     "execution_count": 10,
     "metadata": {},
     "output_type": "execute_result"
    }
   ],
   "source": [
    "# enumerate  -- dict\n",
    "\n",
    "a = {\"bee\":31, \"ant\":62, \"moth\":77, \"ant\":88,'snake':45,'dog':17}\n",
    "\n",
    "list(enumerate(a.items()))"
   ]
  },
  {
   "cell_type": "code",
   "execution_count": null,
   "id": "5c1e5162",
   "metadata": {
    "hidden": true
   },
   "outputs": [],
   "source": []
  },
  {
   "cell_type": "markdown",
   "id": "12947fb6",
   "metadata": {
    "heading_collapsed": true
   },
   "source": [
    "### Range Function\n",
    "\n",
    "     * DOES NOT SUPPORT FLOAT"
   ]
  },
  {
   "cell_type": "code",
   "execution_count": 105,
   "id": "dd8fd71f",
   "metadata": {
    "hidden": true
   },
   "outputs": [
    {
     "data": {
      "text/plain": [
       "range(1, 11)"
      ]
     },
     "execution_count": 105,
     "metadata": {},
     "output_type": "execute_result"
    }
   ],
   "source": [
    "range(1,11,1)"
   ]
  },
  {
   "cell_type": "code",
   "execution_count": 106,
   "id": "9991fa3c",
   "metadata": {
    "hidden": true
   },
   "outputs": [
    {
     "data": {
      "text/plain": [
       "[1, 3, 5, 7, 9]"
      ]
     },
     "execution_count": 106,
     "metadata": {},
     "output_type": "execute_result"
    }
   ],
   "source": [
    "#we have to make list\n",
    "list(range(1,11,2))"
   ]
  },
  {
   "cell_type": "code",
   "execution_count": 107,
   "id": "ea626006",
   "metadata": {
    "hidden": true
   },
   "outputs": [
    {
     "data": {
      "text/plain": [
       "7"
      ]
     },
     "execution_count": 107,
     "metadata": {},
     "output_type": "execute_result"
    }
   ],
   "source": [
    "#indexing accessing purpose\n",
    "\n",
    "range(10)[7]"
   ]
  },
  {
   "cell_type": "code",
   "execution_count": 108,
   "id": "56317d59",
   "metadata": {
    "hidden": true
   },
   "outputs": [
    {
     "ename": "TypeError",
     "evalue": "'float' object cannot be interpreted as an integer",
     "output_type": "error",
     "traceback": [
      "\u001b[1;31m---------------------------------------------------------------------------\u001b[0m",
      "\u001b[1;31mTypeError\u001b[0m                                 Traceback (most recent call last)",
      "\u001b[1;32m<ipython-input-108-d55fb3a1169b>\u001b[0m in \u001b[0;36m<module>\u001b[1;34m\u001b[0m\n\u001b[0;32m      1\u001b[0m \u001b[1;31m# Range DOES NOT Support Float Values\u001b[0m\u001b[1;33m\u001b[0m\u001b[1;33m\u001b[0m\u001b[1;33m\u001b[0m\u001b[0m\n\u001b[1;32m----> 2\u001b[1;33m \u001b[0mrange\u001b[0m\u001b[1;33m(\u001b[0m\u001b[1;36m10.5\u001b[0m\u001b[1;33m)\u001b[0m\u001b[1;33m\u001b[0m\u001b[1;33m\u001b[0m\u001b[0m\n\u001b[0m",
      "\u001b[1;31mTypeError\u001b[0m: 'float' object cannot be interpreted as an integer"
     ]
    }
   ],
   "source": [
    "# Range DOES NOT Support Float Values\n",
    "range(10.5)"
   ]
  },
  {
   "cell_type": "code",
   "execution_count": null,
   "id": "7e8bd735",
   "metadata": {
    "hidden": true
   },
   "outputs": [],
   "source": []
  },
  {
   "cell_type": "markdown",
   "id": "9f8e02a4",
   "metadata": {
    "heading_collapsed": true
   },
   "source": [
    "###  Round Function "
   ]
  },
  {
   "cell_type": "code",
   "execution_count": 109,
   "id": "66f5b328",
   "metadata": {
    "hidden": true
   },
   "outputs": [
    {
     "data": {
      "text/plain": [
       "3.15"
      ]
     },
     "execution_count": 109,
     "metadata": {},
     "output_type": "execute_result"
    }
   ],
   "source": [
    "round(3.1478,2)"
   ]
  },
  {
   "cell_type": "code",
   "execution_count": null,
   "id": "36e678b0",
   "metadata": {
    "hidden": true
   },
   "outputs": [],
   "source": []
  },
  {
   "cell_type": "markdown",
   "id": "4c4cae60",
   "metadata": {
    "heading_collapsed": true
   },
   "source": [
    "### Sorted & Join Function   "
   ]
  },
  {
   "cell_type": "code",
   "execution_count": 110,
   "id": "2282ccd0",
   "metadata": {
    "hidden": true
   },
   "outputs": [
    {
     "data": {
      "text/plain": [
       "'E J M M N S U V'"
      ]
     },
     "execution_count": 110,
     "metadata": {},
     "output_type": "execute_result"
    }
   ],
   "source": [
    "# Get all the initials, sort them alphabetically, and put them in a space-separated string. (sorted not sort)\n",
    "planets = ['Mercury', 'Venus', 'Earth', 'Mars', 'Jupiter', 'Saturn', 'Uranus', 'Neptune']\n",
    "planet_to_initial = {planet: planet[0] for planet in planets}\n",
    "planet_to_initial\n",
    "\n",
    "' '.join(sorted(planet_to_initial.values()))\n"
   ]
  },
  {
   "cell_type": "code",
   "execution_count": null,
   "id": "e0b46dbe",
   "metadata": {
    "hidden": true
   },
   "outputs": [],
   "source": []
  },
  {
   "cell_type": "markdown",
   "id": "f5b151de",
   "metadata": {
    "heading_collapsed": true
   },
   "source": [
    "### Named Arguments\n",
    "\n",
    " * While defining function \n",
    "    * ways to pass arguments \n",
    "    * positional has preference over keyword"
   ]
  },
  {
   "cell_type": "code",
   "execution_count": 1,
   "id": "7e827f40",
   "metadata": {
    "hidden": true
   },
   "outputs": [],
   "source": [
    "def namedArgumentFunction(a,b,c):\n",
    "    print(f'The value of a is {a}, b is {b}, c is {c}')"
   ]
  },
  {
   "cell_type": "code",
   "execution_count": 2,
   "id": "1a6a4ddd",
   "metadata": {
    "hidden": true
   },
   "outputs": [
    {
     "name": "stdout",
     "output_type": "stream",
     "text": [
      "The value of a is 10, b is 20, c is 30\n"
     ]
    }
   ],
   "source": [
    "namedArgumentFunction(10,20,30)  # positional way "
   ]
  },
  {
   "cell_type": "code",
   "execution_count": 3,
   "id": "ab1a76c6",
   "metadata": {
    "hidden": true
   },
   "outputs": [
    {
     "name": "stdout",
     "output_type": "stream",
     "text": [
      "The value of a is 20, b is 30, c is 10\n"
     ]
    }
   ],
   "source": [
    "namedArgumentFunction(c=10,a=20,b=30)  # keyword way "
   ]
  },
  {
   "cell_type": "code",
   "execution_count": null,
   "id": "45246225",
   "metadata": {
    "hidden": true
   },
   "outputs": [],
   "source": [
    "# positional must be before the keyword or else error"
   ]
  },
  {
   "cell_type": "code",
   "execution_count": 4,
   "id": "db147dad",
   "metadata": {
    "hidden": true
   },
   "outputs": [
    {
     "ename": "SyntaxError",
     "evalue": "positional argument follows keyword argument (<ipython-input-4-4d697bac3022>, line 1)",
     "output_type": "error",
     "traceback": [
      "\u001b[1;36m  File \u001b[1;32m\"<ipython-input-4-4d697bac3022>\"\u001b[1;36m, line \u001b[1;32m1\u001b[0m\n\u001b[1;33m    namedArgumentFunction(a=10,20,30)  # positional must be before keyword\u001b[0m\n\u001b[1;37m                               ^\u001b[0m\n\u001b[1;31mSyntaxError\u001b[0m\u001b[1;31m:\u001b[0m positional argument follows keyword argument\n"
     ]
    }
   ],
   "source": [
    "namedArgumentFunction(a=10,20,30)  # positional must be before keyword  "
   ]
  },
  {
   "cell_type": "code",
   "execution_count": 6,
   "id": "e9f45be0",
   "metadata": {
    "hidden": true
   },
   "outputs": [
    {
     "ename": "TypeError",
     "evalue": "namedArgumentFunction() got multiple values for argument 'a'",
     "output_type": "error",
     "traceback": [
      "\u001b[1;31m---------------------------------------------------------------------------\u001b[0m",
      "\u001b[1;31mTypeError\u001b[0m                                 Traceback (most recent call last)",
      "\u001b[1;32m<ipython-input-6-795a660d0863>\u001b[0m in \u001b[0;36m<module>\u001b[1;34m\u001b[0m\n\u001b[1;32m----> 1\u001b[1;33m \u001b[0mnamedArgumentFunction\u001b[0m\u001b[1;33m(\u001b[0m\u001b[1;36m10\u001b[0m\u001b[1;33m,\u001b[0m\u001b[1;36m20\u001b[0m\u001b[1;33m,\u001b[0m\u001b[0ma\u001b[0m\u001b[1;33m=\u001b[0m\u001b[1;36m30\u001b[0m\u001b[1;33m)\u001b[0m  \u001b[1;31m# repetation not allowed\u001b[0m\u001b[1;33m\u001b[0m\u001b[1;33m\u001b[0m\u001b[0m\n\u001b[0m",
      "\u001b[1;31mTypeError\u001b[0m: namedArgumentFunction() got multiple values for argument 'a'"
     ]
    }
   ],
   "source": [
    "namedArgumentFunction(10,20,a=30)  # repetation not allowed  "
   ]
  },
  {
   "cell_type": "code",
   "execution_count": 7,
   "id": "acf02809",
   "metadata": {
    "hidden": true
   },
   "outputs": [
    {
     "name": "stdout",
     "output_type": "stream",
     "text": [
      "The value of a is 10, b is 20, c is 30\n"
     ]
    }
   ],
   "source": [
    "namedArgumentFunction(10,20,c=30)  # positional followed by keyword"
   ]
  },
  {
   "cell_type": "code",
   "execution_count": 8,
   "id": "89763f92",
   "metadata": {
    "hidden": true
   },
   "outputs": [
    {
     "ename": "TypeError",
     "evalue": "namedArgumentFunction() got multiple values for argument 'c'",
     "output_type": "error",
     "traceback": [
      "\u001b[1;31m---------------------------------------------------------------------------\u001b[0m",
      "\u001b[1;31mTypeError\u001b[0m                                 Traceback (most recent call last)",
      "\u001b[1;32m<ipython-input-8-30e2e9d7082e>\u001b[0m in \u001b[0;36m<module>\u001b[1;34m\u001b[0m\n\u001b[1;32m----> 1\u001b[1;33m \u001b[0mnamedArgumentFunction\u001b[0m\u001b[1;33m(\u001b[0m\u001b[1;36m10\u001b[0m\u001b[1;33m,\u001b[0m\u001b[1;36m20\u001b[0m\u001b[1;33m,\u001b[0m\u001b[1;36m30\u001b[0m\u001b[1;33m,\u001b[0m\u001b[0mc\u001b[0m\u001b[1;33m=\u001b[0m\u001b[1;36m30\u001b[0m\u001b[1;33m)\u001b[0m  \u001b[1;31m# positional way\u001b[0m\u001b[1;33m\u001b[0m\u001b[1;33m\u001b[0m\u001b[0m\n\u001b[0m",
      "\u001b[1;31mTypeError\u001b[0m: namedArgumentFunction() got multiple values for argument 'c'"
     ]
    }
   ],
   "source": [
    "namedArgumentFunction(10,20,30,c=30)  # reassigning not supported "
   ]
  },
  {
   "cell_type": "code",
   "execution_count": 9,
   "id": "951864d5",
   "metadata": {
    "hidden": true
   },
   "outputs": [],
   "source": [
    "def defaultNamedFunction(x=123):\n",
    "      print(f'The value of x is {x}')\n",
    "# if nothing passed x=123"
   ]
  },
  {
   "cell_type": "code",
   "execution_count": 10,
   "id": "b0f86aa1",
   "metadata": {
    "hidden": true
   },
   "outputs": [
    {
     "name": "stdout",
     "output_type": "stream",
     "text": [
      "The value of x is 123\n"
     ]
    }
   ],
   "source": [
    "defaultNamedFunction()"
   ]
  },
  {
   "cell_type": "code",
   "execution_count": 11,
   "id": "2e4224ed",
   "metadata": {
    "hidden": true
   },
   "outputs": [
    {
     "name": "stdout",
     "output_type": "stream",
     "text": [
      "The value of x is 456\n"
     ]
    }
   ],
   "source": [
    "defaultNamedFunction(456)"
   ]
  },
  {
   "cell_type": "code",
   "execution_count": null,
   "id": "62ab6438",
   "metadata": {
    "hidden": true
   },
   "outputs": [],
   "source": []
  },
  {
   "cell_type": "markdown",
   "id": "9a87b206",
   "metadata": {},
   "source": [
    "### Wrapper Function"
   ]
  },
  {
   "cell_type": "code",
   "execution_count": 12,
   "id": "09186447",
   "metadata": {},
   "outputs": [],
   "source": [
    "def getCube(x):\n",
    "    return x**3"
   ]
  },
  {
   "cell_type": "code",
   "execution_count": 13,
   "id": "e9275395",
   "metadata": {},
   "outputs": [],
   "source": [
    "def wrapperFunction(FunAsParam,num):\n",
    "    return FunAsParam(num)"
   ]
  },
  {
   "cell_type": "code",
   "execution_count": 14,
   "id": "e6fafe16",
   "metadata": {},
   "outputs": [
    {
     "data": {
      "text/plain": [
       "1000"
      ]
     },
     "execution_count": 14,
     "metadata": {},
     "output_type": "execute_result"
    }
   ],
   "source": [
    "wrapperFunction(getCube,10)"
   ]
  },
  {
   "cell_type": "code",
   "execution_count": 15,
   "id": "1c419d96",
   "metadata": {},
   "outputs": [],
   "source": [
    "def getSq(x):\n",
    "    return x**2"
   ]
  },
  {
   "cell_type": "code",
   "execution_count": 16,
   "id": "f851269c",
   "metadata": {},
   "outputs": [],
   "source": [
    "lst=[getSq,getCube]"
   ]
  },
  {
   "cell_type": "code",
   "execution_count": 17,
   "id": "c6a0f1da",
   "metadata": {},
   "outputs": [
    {
     "name": "stdout",
     "output_type": "stream",
     "text": [
      "25\n",
      "125\n"
     ]
    }
   ],
   "source": [
    "for i in lst:\n",
    "    print(wrapperFunction(i,5))"
   ]
  },
  {
   "cell_type": "code",
   "execution_count": 19,
   "id": "3d025937",
   "metadata": {},
   "outputs": [],
   "source": [
    "import math"
   ]
  },
  {
   "cell_type": "code",
   "execution_count": 20,
   "id": "51940cdb",
   "metadata": {},
   "outputs": [
    {
     "data": {
      "text/plain": [
       "5040"
      ]
     },
     "execution_count": 20,
     "metadata": {},
     "output_type": "execute_result"
    }
   ],
   "source": [
    "# we call any function which is predifined\n",
    "\n",
    "wrapperFunction(math.factorial,7)"
   ]
  },
  {
   "cell_type": "code",
   "execution_count": null,
   "id": "1c7c8347",
   "metadata": {},
   "outputs": [],
   "source": []
  },
  {
   "cell_type": "markdown",
   "id": "00cc0719",
   "metadata": {},
   "source": [
    "## args & kwargs"
   ]
  },
  {
   "cell_type": "markdown",
   "id": "22e148ce",
   "metadata": {
    "heading_collapsed": true
   },
   "source": [
    "### args\n",
    "\n",
    "* these are not keyword\n",
    "* for packing *args 0r *pankaj - packed in to a tuple\n",
    "* we can pass any no of arguments without changing the code\n",
    "* we pack the multiple arguments inside tuple and then iterate it "
   ]
  },
  {
   "cell_type": "code",
   "execution_count": 21,
   "id": "75ada0f9",
   "metadata": {
    "hidden": true
   },
   "outputs": [],
   "source": [
    "# ex - 2 arguments\n",
    "def sumOfNum(a,b):\n",
    "    return a+b\n",
    "\n",
    "### this works only for 2 arguments "
   ]
  },
  {
   "cell_type": "code",
   "execution_count": 22,
   "id": "525e2d5f",
   "metadata": {
    "hidden": true
   },
   "outputs": [
    {
     "data": {
      "text/plain": [
       "9"
      ]
     },
     "execution_count": 22,
     "metadata": {},
     "output_type": "execute_result"
    }
   ],
   "source": [
    "sumOfNum(7,2)"
   ]
  },
  {
   "cell_type": "code",
   "execution_count": 23,
   "id": "77752875",
   "metadata": {
    "hidden": true
   },
   "outputs": [],
   "source": [
    "## ex -3 arguments\n",
    "def sumOfNum3(a,b,c):\n",
    "    return a+b+c\n",
    "\n",
    "### this works only for 3 arguments "
   ]
  },
  {
   "cell_type": "code",
   "execution_count": 24,
   "id": "26e2100e",
   "metadata": {
    "hidden": true
   },
   "outputs": [
    {
     "data": {
      "text/plain": [
       "103"
      ]
     },
     "execution_count": 24,
     "metadata": {},
     "output_type": "execute_result"
    }
   ],
   "source": [
    "sumOfNum3(2,90,11)"
   ]
  },
  {
   "cell_type": "code",
   "execution_count": null,
   "id": "0b36665f",
   "metadata": {
    "hidden": true
   },
   "outputs": [],
   "source": [
    "### so every time as no of aruments are changing we have to modify the code \n",
    "# to avoid this we use *args"
   ]
  },
  {
   "cell_type": "code",
   "execution_count": 25,
   "id": "67598704",
   "metadata": {
    "hidden": true
   },
   "outputs": [],
   "source": [
    "def sumOfNumbers(*args): # packing as Tuple\n",
    "    print('my arguments are : ', args)\n",
    "    print('my args are packed in type :-', type(args))\n",
    "    s=0\n",
    "    for i in args:\n",
    "       s+=i\n",
    "    return s"
   ]
  },
  {
   "cell_type": "code",
   "execution_count": 26,
   "id": "e7ac1366",
   "metadata": {
    "hidden": true
   },
   "outputs": [
    {
     "name": "stdout",
     "output_type": "stream",
     "text": [
      "my arguments are :  (11, 43, 23, 56, 78, 34, 59, 61, 37)\n",
      "my args are packed in type :- <class 'tuple'>\n"
     ]
    },
    {
     "data": {
      "text/plain": [
       "402"
      ]
     },
     "execution_count": 26,
     "metadata": {},
     "output_type": "execute_result"
    }
   ],
   "source": [
    "sumOfNumbers(11,43,23,56,78,34,59,61,37)"
   ]
  },
  {
   "cell_type": "code",
   "execution_count": 27,
   "id": "978a3da0",
   "metadata": {
    "hidden": true
   },
   "outputs": [
    {
     "name": "stdout",
     "output_type": "stream",
     "text": [
      "my arguments are :  (11, 43)\n",
      "my args are packed in type :- <class 'tuple'>\n"
     ]
    },
    {
     "data": {
      "text/plain": [
       "54"
      ]
     },
     "execution_count": 27,
     "metadata": {},
     "output_type": "execute_result"
    }
   ],
   "source": [
    "sumOfNumbers(11,43)"
   ]
  },
  {
   "cell_type": "code",
   "execution_count": null,
   "id": "2859675a",
   "metadata": {
    "hidden": true
   },
   "outputs": [],
   "source": [
    "# though the arguments vary my fun is same"
   ]
  },
  {
   "cell_type": "code",
   "execution_count": 28,
   "id": "edc58786",
   "metadata": {
    "hidden": true
   },
   "outputs": [],
   "source": [
    "def sumofPank(*panks):\n",
    "    print('my arguments are : ', panks)\n",
    "    print('my args are packed in type :-', type(panks))\n",
    "    s=0\n",
    "    for i in panks:\n",
    "       s+=i\n",
    "    return s"
   ]
  },
  {
   "cell_type": "code",
   "execution_count": 29,
   "id": "60c3e76a",
   "metadata": {
    "hidden": true
   },
   "outputs": [
    {
     "name": "stdout",
     "output_type": "stream",
     "text": [
      "my arguments are :  (11, 43, 23, 56, 78, 34, 59, 61, 37)\n",
      "my args are packed in type :- <class 'tuple'>\n"
     ]
    },
    {
     "data": {
      "text/plain": [
       "402"
      ]
     },
     "execution_count": 29,
     "metadata": {},
     "output_type": "execute_result"
    }
   ],
   "source": [
    "sumofPank(11,43,23,56,78,34,59,61,37)"
   ]
  },
  {
   "cell_type": "code",
   "execution_count": 30,
   "id": "edbe25a7",
   "metadata": {
    "hidden": true
   },
   "outputs": [
    {
     "name": "stdout",
     "output_type": "stream",
     "text": [
      "my arguments are :  (11, 43)\n",
      "my args are packed in type :- <class 'tuple'>\n"
     ]
    },
    {
     "data": {
      "text/plain": [
       "54"
      ]
     },
     "execution_count": 30,
     "metadata": {},
     "output_type": "execute_result"
    }
   ],
   "source": [
    "sumofPank(11,43)"
   ]
  },
  {
   "cell_type": "code",
   "execution_count": null,
   "id": "958d8528",
   "metadata": {
    "hidden": true
   },
   "outputs": [],
   "source": [
    "### but it is recommended to use *args - nomenclature - uniformity - readability of code "
   ]
  },
  {
   "cell_type": "code",
   "execution_count": null,
   "id": "76a227ba",
   "metadata": {
    "hidden": true
   },
   "outputs": [],
   "source": [
    "#### packing & unpacking \n",
    "\n",
    "# lets see how to pass tuple / list as arguments inside function"
   ]
  },
  {
   "cell_type": "code",
   "execution_count": 32,
   "id": "27aba040",
   "metadata": {
    "hidden": true
   },
   "outputs": [],
   "source": [
    "t = (10, 34, 45, 78)"
   ]
  },
  {
   "cell_type": "code",
   "execution_count": 33,
   "id": "4de943c7",
   "metadata": {
    "hidden": true
   },
   "outputs": [
    {
     "name": "stdout",
     "output_type": "stream",
     "text": [
      "my arguments are :  (10, 34, 45, 78)\n",
      "my args are packed in type :- <class 'tuple'>\n"
     ]
    },
    {
     "data": {
      "text/plain": [
       "167"
      ]
     },
     "execution_count": 33,
     "metadata": {},
     "output_type": "execute_result"
    }
   ],
   "source": [
    "sumOfNumbers(t[0],t[1],t[2],t[3]) # hectic "
   ]
  },
  {
   "cell_type": "code",
   "execution_count": 34,
   "id": "47a30d48",
   "metadata": {
    "hidden": true
   },
   "outputs": [
    {
     "name": "stdout",
     "output_type": "stream",
     "text": [
      "my arguments are :  (10, 34, 45, 78)\n",
      "my args are packed in type :- <class 'tuple'>\n"
     ]
    },
    {
     "data": {
      "text/plain": [
       "167"
      ]
     },
     "execution_count": 34,
     "metadata": {},
     "output_type": "execute_result"
    }
   ],
   "source": [
    "sumOfNumbers(*t)   # unpacking - caller side - easy "
   ]
  },
  {
   "cell_type": "code",
   "execution_count": 35,
   "id": "e65b10c8",
   "metadata": {
    "hidden": true
   },
   "outputs": [
    {
     "name": "stdout",
     "output_type": "stream",
     "text": [
      "my arguments are :  ((10, 34, 45, 78),)\n",
      "my args are packed in type :- <class 'tuple'>\n"
     ]
    },
    {
     "ename": "TypeError",
     "evalue": "unsupported operand type(s) for +=: 'int' and 'tuple'",
     "output_type": "error",
     "traceback": [
      "\u001b[1;31m---------------------------------------------------------------------------\u001b[0m",
      "\u001b[1;31mTypeError\u001b[0m                                 Traceback (most recent call last)",
      "\u001b[1;32m<ipython-input-35-a9992a0a1e9d>\u001b[0m in \u001b[0;36m<module>\u001b[1;34m\u001b[0m\n\u001b[1;32m----> 1\u001b[1;33m \u001b[0msumOfNumbers\u001b[0m\u001b[1;33m(\u001b[0m\u001b[0mt\u001b[0m\u001b[1;33m)\u001b[0m\u001b[1;33m\u001b[0m\u001b[1;33m\u001b[0m\u001b[0m\n\u001b[0m",
      "\u001b[1;32m<ipython-input-25-ff62f5761042>\u001b[0m in \u001b[0;36msumOfNumbers\u001b[1;34m(*args)\u001b[0m\n\u001b[0;32m      4\u001b[0m     \u001b[0ms\u001b[0m\u001b[1;33m=\u001b[0m\u001b[1;36m0\u001b[0m\u001b[1;33m\u001b[0m\u001b[1;33m\u001b[0m\u001b[0m\n\u001b[0;32m      5\u001b[0m     \u001b[1;32mfor\u001b[0m \u001b[0mi\u001b[0m \u001b[1;32min\u001b[0m \u001b[0margs\u001b[0m\u001b[1;33m:\u001b[0m\u001b[1;33m\u001b[0m\u001b[1;33m\u001b[0m\u001b[0m\n\u001b[1;32m----> 6\u001b[1;33m        \u001b[0ms\u001b[0m\u001b[1;33m+=\u001b[0m\u001b[0mi\u001b[0m\u001b[1;33m\u001b[0m\u001b[1;33m\u001b[0m\u001b[0m\n\u001b[0m\u001b[0;32m      7\u001b[0m     \u001b[1;32mreturn\u001b[0m \u001b[0ms\u001b[0m\u001b[1;33m\u001b[0m\u001b[1;33m\u001b[0m\u001b[0m\n",
      "\u001b[1;31mTypeError\u001b[0m: unsupported operand type(s) for +=: 'int' and 'tuple'"
     ]
    }
   ],
   "source": [
    "sumOfNumbers(t) \n",
    "\n",
    "#### unpacking not Done - hence it created Tuple inside tuple as not unpacked"
   ]
  },
  {
   "cell_type": "markdown",
   "id": "f1d75379",
   "metadata": {
    "hidden": true
   },
   "source": [
    "* packing - done inside tuple\n",
    "* unpacking from tuple,list,set"
   ]
  },
  {
   "cell_type": "code",
   "execution_count": 36,
   "id": "a191cef7",
   "metadata": {
    "hidden": true
   },
   "outputs": [
    {
     "name": "stdout",
     "output_type": "stream",
     "text": [
      "Enter comma separated numbers to add: 1,7,3,9,6,2,10,18,21,29,37,53,43,47\n"
     ]
    }
   ],
   "source": [
    "usrInput = input(\"Enter comma separated numbers to add: \")"
   ]
  },
  {
   "cell_type": "code",
   "execution_count": 37,
   "id": "076059c0",
   "metadata": {
    "hidden": true
   },
   "outputs": [
    {
     "data": {
      "text/plain": [
       "['1', '7', '3', '9', '6', '2', '10', '18', '21', '29', '37', '53', '43', '47']"
      ]
     },
     "execution_count": 37,
     "metadata": {},
     "output_type": "execute_result"
    }
   ],
   "source": [
    "# above is a string separated by ,\n",
    "\n",
    "lst = usrInput.split(',')\n",
    "lst"
   ]
  },
  {
   "cell_type": "code",
   "execution_count": 38,
   "id": "c6ee55ba",
   "metadata": {
    "hidden": true
   },
   "outputs": [
    {
     "data": {
      "text/plain": [
       "str"
      ]
     },
     "execution_count": 38,
     "metadata": {},
     "output_type": "execute_result"
    }
   ],
   "source": [
    "type(lst[0])"
   ]
  },
  {
   "cell_type": "code",
   "execution_count": 39,
   "id": "3883afd8",
   "metadata": {
    "hidden": true
   },
   "outputs": [
    {
     "data": {
      "text/plain": [
       "[1, 7, 3, 9, 6, 2, 10, 18, 21, 29, 37, 53, 43, 47]"
      ]
     },
     "execution_count": 39,
     "metadata": {},
     "output_type": "execute_result"
    }
   ],
   "source": [
    "new_lst=[]\n",
    "for i in lst:\n",
    "    new_lst.append(eval(i))\n",
    "new_lst"
   ]
  },
  {
   "cell_type": "code",
   "execution_count": 40,
   "id": "8370b246",
   "metadata": {
    "hidden": true
   },
   "outputs": [
    {
     "data": {
      "text/plain": [
       "int"
      ]
     },
     "execution_count": 40,
     "metadata": {},
     "output_type": "execute_result"
    }
   ],
   "source": [
    "type(new_lst[0])"
   ]
  },
  {
   "cell_type": "code",
   "execution_count": 41,
   "id": "ef0585af",
   "metadata": {
    "hidden": true
   },
   "outputs": [
    {
     "name": "stdout",
     "output_type": "stream",
     "text": [
      "my arguments are :  (1, 7, 3, 9, 6, 2, 10, 18, 21, 29, 37, 53, 43, 47)\n",
      "my args are packed in type :- <class 'tuple'>\n"
     ]
    },
    {
     "data": {
      "text/plain": [
       "286"
      ]
     },
     "execution_count": 41,
     "metadata": {},
     "output_type": "execute_result"
    }
   ],
   "source": [
    "sumOfNumbers(*new_lst)"
   ]
  },
  {
   "cell_type": "code",
   "execution_count": 43,
   "id": "1454aa4e",
   "metadata": {
    "hidden": true
   },
   "outputs": [],
   "source": [
    "s = {1, 5, 7, 9, 10}"
   ]
  },
  {
   "cell_type": "code",
   "execution_count": 44,
   "id": "44d8e33c",
   "metadata": {
    "hidden": true
   },
   "outputs": [
    {
     "name": "stdout",
     "output_type": "stream",
     "text": [
      "my arguments are :  (1, 5, 7, 9, 10)\n",
      "my args are packed in type :- <class 'tuple'>\n"
     ]
    },
    {
     "data": {
      "text/plain": [
       "32"
      ]
     },
     "execution_count": 44,
     "metadata": {},
     "output_type": "execute_result"
    }
   ],
   "source": [
    "sumOfNumbers(*s)"
   ]
  },
  {
   "cell_type": "code",
   "execution_count": null,
   "id": "661b16b8",
   "metadata": {
    "hidden": true
   },
   "outputs": [],
   "source": [
    "# can't use for dictionary"
   ]
  },
  {
   "cell_type": "markdown",
   "id": "d9eea2c1",
   "metadata": {},
   "source": [
    "### kwargs"
   ]
  },
  {
   "cell_type": "code",
   "execution_count": 45,
   "id": "6293c16d",
   "metadata": {},
   "outputs": [],
   "source": [
    "def printPlayerDetails(**kwargs):\n",
    "    print('my arguments are in dict format - ',kwargs)\n",
    "    print('Type os my kwargs',type(kwargs))"
   ]
  },
  {
   "cell_type": "code",
   "execution_count": 46,
   "id": "80db87d7",
   "metadata": {},
   "outputs": [
    {
     "name": "stdout",
     "output_type": "stream",
     "text": [
      "my arguments are in dict format -  {'name': 'Virat', 'age': 33, 'team': 'RCB'}\n",
      "Type os my kwargs <class 'dict'>\n"
     ]
    }
   ],
   "source": [
    "printPlayerDetails(name=\"Virat\", age=33, team=\"RCB\")"
   ]
  },
  {
   "cell_type": "code",
   "execution_count": 47,
   "id": "154eaefb",
   "metadata": {},
   "outputs": [
    {
     "name": "stdout",
     "output_type": "stream",
     "text": [
      "my arguments are in dict format -  {'name': 'Virat', 'age': 33, 'team': 'RCB', 'salary': 1000}\n",
      "Type os my kwargs <class 'dict'>\n"
     ]
    }
   ],
   "source": [
    "printPlayerDetails(name=\"Virat\", age=33, team=\"RCB\", salary=1000)"
   ]
  },
  {
   "cell_type": "code",
   "execution_count": null,
   "id": "945aef45",
   "metadata": {},
   "outputs": [],
   "source": [
    "# API\n",
    "# 2020: Client V1 - Server Exposed one Function(a, b, c) => V1\n",
    "# 2021: Server Function(a, b, c, d) => V2, Client V2"
   ]
  },
  {
   "cell_type": "code",
   "execution_count": 48,
   "id": "22db86a1",
   "metadata": {},
   "outputs": [],
   "source": [
    "def printPlayerDetails(**kwargs):  # Packing + Dict\n",
    "    print(\"kwargs: \", kwargs)\n",
    "    print(\"Type of kwargs: \", type(kwargs))\n",
    "    if \"version\" not in kwargs:\n",
    "        print(\"Not a valid client\")\n",
    "        return\n",
    "\n",
    "    if kwargs[\"version\"] == \"V1\":\n",
    "        print(\"Printing for version V1\")\n",
    "    elif kwargs[\"version\"] == \"V2\":\n",
    "        print(\"Printing for version V2\")"
   ]
  },
  {
   "cell_type": "code",
   "execution_count": 49,
   "id": "a8122501",
   "metadata": {},
   "outputs": [
    {
     "name": "stdout",
     "output_type": "stream",
     "text": [
      "kwargs:  {'name': 'Virat', 'age': 33, 'team': 'RCB', 'version': 'V1'}\n",
      "Type of kwargs:  <class 'dict'>\n",
      "Printing for version V1\n"
     ]
    }
   ],
   "source": [
    "printPlayerDetails(name=\"Virat\", age=33, team=\"RCB\", version=\"V1\")"
   ]
  },
  {
   "cell_type": "code",
   "execution_count": 50,
   "id": "17e168e3",
   "metadata": {},
   "outputs": [
    {
     "name": "stdout",
     "output_type": "stream",
     "text": [
      "kwargs:  {'name': 'Virat', 'age': 33, 'team': 'RCB', 'salary': 1000, 'version': 'V2'}\n",
      "Type of kwargs:  <class 'dict'>\n",
      "Printing for version V2\n"
     ]
    }
   ],
   "source": [
    "printPlayerDetails(name=\"Virat\", age=33, team=\"RCB\", salary=1000, version=\"V2\")"
   ]
  },
  {
   "cell_type": "code",
   "execution_count": 51,
   "id": "00b7bee8",
   "metadata": {},
   "outputs": [
    {
     "name": "stdout",
     "output_type": "stream",
     "text": [
      "kwargs:  {'name': 'Virat', 'age': 33, 'team': 'RCB'}\n",
      "Type of kwargs:  <class 'dict'>\n",
      "Not a valid client\n"
     ]
    }
   ],
   "source": [
    "printPlayerDetails(name=\"Virat\", age=33, team=\"RCB\")"
   ]
  },
  {
   "cell_type": "code",
   "execution_count": 52,
   "id": "38bd0863",
   "metadata": {},
   "outputs": [],
   "source": [
    "d = {\"name\": \"MSD\", \"age\": 39, \"team\": \"CSK\", \"version\": \"v1\"}"
   ]
  },
  {
   "cell_type": "code",
   "execution_count": 54,
   "id": "15aefb25",
   "metadata": {},
   "outputs": [
    {
     "name": "stdout",
     "output_type": "stream",
     "text": [
      "kwargs:  {'name': 'MSD', 'age': 39, 'team': 'CSK', 'version': 'v1'}\n",
      "Type of kwargs:  <class 'dict'>\n"
     ]
    }
   ],
   "source": [
    "printPlayerDetails(**d)   ### unpacking"
   ]
  },
  {
   "cell_type": "code",
   "execution_count": 55,
   "id": "1ca2a363",
   "metadata": {},
   "outputs": [
    {
     "name": "stdout",
     "output_type": "stream",
     "text": [
      "kwargs:  {}\n",
      "Type of kwargs:  <class 'dict'>\n",
      "Not a valid client\n"
     ]
    }
   ],
   "source": [
    "printPlayerDetails()"
   ]
  },
  {
   "cell_type": "code",
   "execution_count": 56,
   "id": "56b79bec",
   "metadata": {},
   "outputs": [
    {
     "ename": "TypeError",
     "evalue": "printPlayerDetails() takes 0 positional arguments but 1 was given",
     "output_type": "error",
     "traceback": [
      "\u001b[1;31m---------------------------------------------------------------------------\u001b[0m",
      "\u001b[1;31mTypeError\u001b[0m                                 Traceback (most recent call last)",
      "\u001b[1;32m<ipython-input-56-598a5ebdc785>\u001b[0m in \u001b[0;36m<module>\u001b[1;34m\u001b[0m\n\u001b[1;32m----> 1\u001b[1;33m \u001b[0mprintPlayerDetails\u001b[0m\u001b[1;33m(\u001b[0m\u001b[0md\u001b[0m\u001b[1;33m)\u001b[0m\u001b[1;33m\u001b[0m\u001b[1;33m\u001b[0m\u001b[0m\n\u001b[0m",
      "\u001b[1;31mTypeError\u001b[0m: printPlayerDetails() takes 0 positional arguments but 1 was given"
     ]
    }
   ],
   "source": [
    "printPlayerDetails(d)"
   ]
  },
  {
   "cell_type": "code",
   "execution_count": null,
   "id": "ebe2e2ee",
   "metadata": {},
   "outputs": [],
   "source": []
  },
  {
   "cell_type": "markdown",
   "id": "4e01a406",
   "metadata": {
    "heading_collapsed": true
   },
   "source": [
    "## Functions & Mutable Params"
   ]
  },
  {
   "cell_type": "code",
   "execution_count": 57,
   "id": "57e6f143",
   "metadata": {
    "hidden": true
   },
   "outputs": [],
   "source": [
    "# list is mutable - initializing with [] but over iteration value changes\n",
    "def EmptyListAsParam(my_list=[]):\n",
    "    my_list.append(\"24July2021\")\n",
    "    return my_list"
   ]
  },
  {
   "cell_type": "code",
   "execution_count": 60,
   "id": "33a40d42",
   "metadata": {
    "hidden": true
   },
   "outputs": [
    {
     "data": {
      "text/plain": [
       "['24July2021']"
      ]
     },
     "execution_count": 60,
     "metadata": {},
     "output_type": "execute_result"
    }
   ],
   "source": [
    "r = EmptyListAsParam()\n",
    "r"
   ]
  },
  {
   "cell_type": "code",
   "execution_count": null,
   "id": "4fc0d24f",
   "metadata": {
    "hidden": true
   },
   "outputs": [],
   "source": [
    "# now r=['24July2021']"
   ]
  },
  {
   "cell_type": "code",
   "execution_count": 61,
   "id": "96390614",
   "metadata": {
    "hidden": true
   },
   "outputs": [
    {
     "name": "stdout",
     "output_type": "stream",
     "text": [
      "The value of r after 2nd iteration is:  ['24July2021', '24July2021']\n"
     ]
    }
   ],
   "source": [
    "r = EmptyListAsParam()\n",
    "print(\"The value of r after 2nd iteration is: \", r)"
   ]
  },
  {
   "cell_type": "code",
   "execution_count": null,
   "id": "51aa4d79",
   "metadata": {
    "hidden": true
   },
   "outputs": [],
   "source": [
    "# now r=['24July2021', '24July2021']"
   ]
  },
  {
   "cell_type": "code",
   "execution_count": 62,
   "id": "7a67c7b3",
   "metadata": {
    "hidden": true
   },
   "outputs": [
    {
     "name": "stdout",
     "output_type": "stream",
     "text": [
      "The value of r after 3rd iteration is:  ['24July2021', '24July2021', '24July2021']\n"
     ]
    }
   ],
   "source": [
    "r = EmptyListAsParam()\n",
    "print(\"The value of r after 3rd iteration is: \", r)"
   ]
  },
  {
   "cell_type": "code",
   "execution_count": null,
   "id": "0ec19284",
   "metadata": {
    "hidden": true
   },
   "outputs": [],
   "source": []
  },
  {
   "cell_type": "code",
   "execution_count": 65,
   "id": "4436f014",
   "metadata": {
    "hidden": true
   },
   "outputs": [],
   "source": [
    "# initializing with NONE SO over iteration value DOES NOT changes -Initializing value = None\n",
    "# for every iteration we get brand new empty list\n",
    "\n",
    "\n",
    "def EmptyListAsParamV1(my_list=None):\n",
    "    if my_list == None:\n",
    "        my_list = []\n",
    "\n",
    "    my_list.append(\"24July2021\")\n",
    "\n",
    "    return my_list"
   ]
  },
  {
   "cell_type": "code",
   "execution_count": 66,
   "id": "75875c3a",
   "metadata": {
    "hidden": true
   },
   "outputs": [
    {
     "name": "stdout",
     "output_type": "stream",
     "text": [
      "The value of r after 1st iteration is:  ['24July2021']\n"
     ]
    }
   ],
   "source": [
    "r = EmptyListAsParamV1()\n",
    "print(\"The value of r after 1st iteration is: \", r)"
   ]
  },
  {
   "cell_type": "code",
   "execution_count": 67,
   "id": "9f4dc36e",
   "metadata": {
    "hidden": true
   },
   "outputs": [
    {
     "name": "stdout",
     "output_type": "stream",
     "text": [
      "The value of r after 2nd iteration is:  ['24July2021']\n"
     ]
    }
   ],
   "source": [
    "r = EmptyListAsParamV1()\n",
    "print(\"The value of r after 2nd iteration is: \", r)"
   ]
  },
  {
   "cell_type": "code",
   "execution_count": 68,
   "id": "55494162",
   "metadata": {
    "hidden": true,
    "scrolled": true
   },
   "outputs": [
    {
     "name": "stdout",
     "output_type": "stream",
     "text": [
      "The value of r after 3rd iteration is:  ['24July2021']\n"
     ]
    }
   ],
   "source": [
    "r = EmptyListAsParamV1()\n",
    "print(\"The value of r after 3rd iteration is: \", r)"
   ]
  },
  {
   "cell_type": "code",
   "execution_count": null,
   "id": "10c19556",
   "metadata": {
    "hidden": true
   },
   "outputs": [],
   "source": []
  },
  {
   "cell_type": "code",
   "execution_count": null,
   "id": "22d569b6",
   "metadata": {
    "hidden": true
   },
   "outputs": [],
   "source": []
  },
  {
   "cell_type": "code",
   "execution_count": null,
   "id": "54169312",
   "metadata": {
    "hidden": true
   },
   "outputs": [],
   "source": []
  }
 ],
 "metadata": {
  "kernelspec": {
   "display_name": "Python 3 (ipykernel)",
   "language": "python",
   "name": "python3"
  },
  "language_info": {
   "codemirror_mode": {
    "name": "ipython",
    "version": 3
   },
   "file_extension": ".py",
   "mimetype": "text/x-python",
   "name": "python",
   "nbconvert_exporter": "python",
   "pygments_lexer": "ipython3",
   "version": "3.9.7"
  },
  "varInspector": {
   "cols": {
    "lenName": 16,
    "lenType": 16,
    "lenVar": 40
   },
   "kernels_config": {
    "python": {
     "delete_cmd_postfix": "",
     "delete_cmd_prefix": "del ",
     "library": "var_list.py",
     "varRefreshCmd": "print(var_dic_list())"
    },
    "r": {
     "delete_cmd_postfix": ") ",
     "delete_cmd_prefix": "rm(",
     "library": "var_list.r",
     "varRefreshCmd": "cat(var_dic_list()) "
    }
   },
   "types_to_exclude": [
    "module",
    "function",
    "builtin_function_or_method",
    "instance",
    "_Feature"
   ],
   "window_display": false
  }
 },
 "nbformat": 4,
 "nbformat_minor": 5
}
